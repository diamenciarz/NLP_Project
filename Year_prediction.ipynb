{
 "cells": [
  {
   "cell_type": "code",
   "execution_count": 1,
   "metadata": {},
   "outputs": [],
   "source": [
    "import matplotlib.pyplot as plt\n",
    "import numpy as np\n",
    "import pandas as pd\n",
    "from sklearn.metrics import accuracy_score, precision_score, f1_score"
   ]
  },
  {
   "attachments": {},
   "cell_type": "markdown",
   "metadata": {},
   "source": [
    "### Data importing"
   ]
  },
  {
   "attachments": {},
   "cell_type": "markdown",
   "metadata": {},
   "source": [
    "##### TF-IDF"
   ]
  },
  {
   "cell_type": "code",
   "execution_count": 63,
   "metadata": {},
   "outputs": [
    {
     "data": {
      "text/plain": [
       "(30000, 57157)"
      ]
     },
     "execution_count": 63,
     "metadata": {},
     "output_type": "execute_result"
    }
   ],
   "source": [
    "from scipy.sparse import load_npz\n",
    "X_unfiltered = load_npz(\"30k_regression_dataset.npz\")\n",
    "X_unfiltered.shape\n"
   ]
  },
  {
   "cell_type": "code",
   "execution_count": 83,
   "metadata": {},
   "outputs": [
    {
     "data": {
      "text/plain": [
       "(30000,)"
      ]
     },
     "execution_count": 83,
     "metadata": {},
     "output_type": "execute_result"
    }
   ],
   "source": [
    "import numpy as np\n",
    "\n",
    "y_unfiltered = np.load(\"30k_regression_labels.npy\")\n",
    "y_unfiltered.shape"
   ]
  },
  {
   "attachments": {},
   "cell_type": "markdown",
   "metadata": {},
   "source": [
    "##### Delete years with less than 10 instances"
   ]
  },
  {
   "cell_type": "code",
   "execution_count": 84,
   "metadata": {},
   "outputs": [
    {
     "name": "stdout",
     "output_type": "stream",
     "text": [
      "[2007 2008 2009 2010 2011 2012 2013 2014 2015 2016 2017 2018 2019 2020\n",
      " 2021 2022 2023] [25135  3433   728   263   153    79    45    30    22    30    21    15\n",
      "    15     9     8    13     1]\n",
      "Picked years [2007 2008 2009 2010 2011 2012 2013 2014 2015 2016 2017]\n"
     ]
    },
    {
     "data": {
      "image/png": "[encoded data removed]",
      "text/plain": [
       "<Figure size 640x480 with 1 Axes>"
      ]
     },
     "metadata": {},
     "output_type": "display_data"
    }
   ],
   "source": [
    "unique_labels, label_counts = np.unique(y_unfiltered, return_counts=True)\n",
    "plt.bar(unique_labels, label_counts)\n",
    "print(unique_labels, label_counts)\n",
    "picked_years = label_counts >= 20\n",
    "picked_years = unique_labels[picked_years]\n",
    "print(\"Picked years\", picked_years)"
   ]
  },
  {
   "cell_type": "code",
   "execution_count": 87,
   "metadata": {},
   "outputs": [],
   "source": [
    "mask = np.array([x in picked_years for x in y_unfiltered]) \n",
    "X = X_unfiltered[mask]\n",
    "y = y_unfiltered[mask]"
   ]
  },
  {
   "attachments": {},
   "cell_type": "markdown",
   "metadata": {},
   "source": [
    "### Sparse data regression"
   ]
  },
  {
   "cell_type": "code",
   "execution_count": 88,
   "metadata": {},
   "outputs": [
    {
     "name": "stdout",
     "output_type": "stream",
     "text": [
      "Predictions: [2007.  2007.4 2007.  ... 2007.  2007.6 2007.6] Correct: [2007 2007 2007 ... 2007 2007 2007]\n",
      "Mean Squared Error: 0.7212291249164993\n"
     ]
    }
   ],
   "source": [
    "from sklearn.neighbors import KNeighborsRegressor\n",
    "from sklearn.model_selection import train_test_split\n",
    "from sklearn.metrics import mean_squared_error\n",
    "\n",
    "X_train, X_test, y_train, y_test = train_test_split(X, y, test_size=0.2, random_state=42, stratify=y)\n",
    "\n",
    "# Initialize the Ridge regression model\n",
    "ridge_model = KNeighborsRegressor()\n",
    "\n",
    "# Train the Ridge regression model\n",
    "ridge_model.fit(X_train, y_train)\n",
    "\n",
    "# Make predictions on the test set\n",
    "y_pred = ridge_model.predict(X_test)\n",
    "print(\"Predictions:\", y_pred, \"Correct:\", y_test)\n",
    "# Calculate the mean squared error\n",
    "mse = mean_squared_error(y_test, y_pred)\n",
    "print('Mean Squared Error:', mse)"
   ]
  },
  {
   "cell_type": "code",
   "execution_count": 89,
   "metadata": {},
   "outputs": [
    {
     "data": {
      "text/plain": [
       "<BarContainer object of 6 artists>"
      ]
     },
     "execution_count": 89,
     "metadata": {},
     "output_type": "execute_result"
    },
    {
     "data": {
      "image/png": "[encoded data removed]",
      "text/plain": [
       "<Figure size 640x480 with 1 Axes>"
      ]
     },
     "metadata": {},
     "output_type": "display_data"
    }
   ],
   "source": [
    "a,b = np.unique(np.round(y_pred), return_counts=True)\n",
    "plt.bar(a,b)\n"
   ]
  },
  {
   "cell_type": "code",
   "execution_count": 90,
   "metadata": {},
   "outputs": [
    {
     "name": "stdout",
     "output_type": "stream",
     "text": [
      "              precision    recall  f1-score   support\n",
      "\n",
      "        2007       0.86      0.85      0.85      5027\n",
      "        2008       0.15      0.19      0.17       687\n",
      "        2009       0.07      0.05      0.06       146\n",
      "        2010       0.17      0.02      0.03        53\n",
      "        2011       0.00      0.00      0.00        30\n",
      "        2012       0.00      0.00      0.00        16\n",
      "        2013       0.00      0.00      0.00         9\n",
      "        2014       0.00      0.00      0.00         6\n",
      "        2015       0.00      0.00      0.00         4\n",
      "        2016       0.00      0.00      0.00         6\n",
      "        2017       0.00      0.00      0.00         4\n",
      "\n",
      "    accuracy                           0.74      5988\n",
      "   macro avg       0.11      0.10      0.10      5988\n",
      "weighted avg       0.74      0.74      0.74      5988\n",
      "\n"
     ]
    }
   ],
   "source": [
    "from sklearn.metrics import accuracy_score, precision_score, f1_score, classification_report\n",
    "\n",
    "print(classification_report(y_test, np.round(y_pred), zero_division=0))"
   ]
  },
  {
   "cell_type": "code",
   "execution_count": 94,
   "metadata": {},
   "outputs": [
    {
     "name": "stdout",
     "output_type": "stream",
     "text": [
      "Predictions: [2007 2007 2007 ... 2007 2008 2007] Correct: [2007 2007 2007 ... 2007 2007 2007]\n",
      "Mean Squared Error: 1.188376753507014\n"
     ]
    }
   ],
   "source": [
    "from sklearn.tree import DecisionTreeClassifier\n",
    "from sklearn.model_selection import train_test_split\n",
    "from sklearn.metrics import mean_squared_error\n",
    "\n",
    "X_train, X_test, y_train, y_test = train_test_split(X, y, test_size=0.2, random_state=42, stratify=y)\n",
    "\n",
    "# Initialize the Ridge regression model\n",
    "ridge_model = DecisionTreeClassifier()\n",
    "\n",
    "# Train the Ridge regression model\n",
    "ridge_model.fit(X_train, y_train)\n",
    "\n",
    "# Make predictions on the test set\n",
    "y_pred = ridge_model.predict(X_test)\n",
    "print(\"Predictions:\", y_pred, \"Correct:\", y_test)\n",
    "# Calculate the mean squared error\n",
    "mse = mean_squared_error(y_test, y_pred)\n",
    "print('Mean Squared Error:', mse)"
   ]
  },
  {
   "cell_type": "code",
   "execution_count": 95,
   "metadata": {},
   "outputs": [
    {
     "data": {
      "text/plain": [
       "<BarContainer object of 11 artists>"
      ]
     },
     "execution_count": 95,
     "metadata": {},
     "output_type": "execute_result"
    },
    {
     "data": {
      "image/png": "[encoded data removed]",
      "text/plain": [
       "<Figure size 640x480 with 1 Axes>"
      ]
     },
     "metadata": {},
     "output_type": "display_data"
    }
   ],
   "source": [
    "a,b = np.unique(np.round(y_pred), return_counts=True)\n",
    "plt.bar(a,b)\n"
   ]
  },
  {
   "cell_type": "code",
   "execution_count": 96,
   "metadata": {},
   "outputs": [
    {
     "name": "stdout",
     "output_type": "stream",
     "text": [
      "              precision    recall  f1-score   support\n",
      "\n",
      "        2007       0.85      0.88      0.86      5027\n",
      "        2008       0.14      0.11      0.13       687\n",
      "        2009       0.05      0.03      0.04       146\n",
      "        2010       0.11      0.08      0.09        53\n",
      "        2011       0.00      0.00      0.00        30\n",
      "        2012       0.00      0.00      0.00        16\n",
      "        2013       0.00      0.00      0.00         9\n",
      "        2014       0.00      0.00      0.00         6\n",
      "        2015       0.00      0.00      0.00         4\n",
      "        2016       0.00      0.00      0.00         6\n",
      "        2017       0.00      0.00      0.00         4\n",
      "\n",
      "    accuracy                           0.75      5988\n",
      "   macro avg       0.10      0.10      0.10      5988\n",
      "weighted avg       0.73      0.75      0.74      5988\n",
      "\n"
     ]
    }
   ],
   "source": [
    "from sklearn.metrics import accuracy_score, precision_score, f1_score, classification_report\n",
    "\n",
    "print(classification_report(y_test, np.round(y_pred), zero_division=0))"
   ]
  },
  {
   "attachments": {},
   "cell_type": "markdown",
   "metadata": {},
   "source": [
    "### Sparse data classification"
   ]
  },
  {
   "cell_type": "code",
   "execution_count": 97,
   "metadata": {},
   "outputs": [
    {
     "name": "stdout",
     "output_type": "stream",
     "text": [
      "Predictions: [2007 2007 2007 ... 2007 2010 2008] Correct: [2007 2007 2007 ... 2007 2007 2007]\n"
     ]
    }
   ],
   "source": [
    "from sklearn.neighbors import KNeighborsClassifier\n",
    "\n",
    "ridge_model = KNeighborsClassifier(n_neighbors=1)\n",
    "\n",
    "# Train the Ridge regression model\n",
    "ridge_model.fit(X_train, y_train)\n",
    "\n",
    "# Make predictions on the test set\n",
    "y_pred = ridge_model.predict(X_test)\n",
    "print(\"Predictions:\", y_pred, \"Correct:\", y_test)"
   ]
  },
  {
   "cell_type": "code",
   "execution_count": 98,
   "metadata": {},
   "outputs": [
    {
     "name": "stdout",
     "output_type": "stream",
     "text": [
      "              precision    recall  f1-score   support\n",
      "\n",
      "        2007       0.86      0.85      0.85      5027\n",
      "        2008       0.19      0.20      0.19       687\n",
      "        2009       0.09      0.09      0.09       146\n",
      "        2010       0.02      0.02      0.02        53\n",
      "        2011       0.04      0.03      0.03        30\n",
      "        2012       0.11      0.12      0.11        16\n",
      "        2013       0.12      0.11      0.12         9\n",
      "        2014       0.00      0.00      0.00         6\n",
      "        2015       0.33      0.25      0.29         4\n",
      "        2016       0.17      0.17      0.17         6\n",
      "        2017       0.00      0.00      0.00         4\n",
      "\n",
      "    accuracy                           0.74      5988\n",
      "   macro avg       0.17      0.17      0.17      5988\n",
      "weighted avg       0.74      0.74      0.74      5988\n",
      "\n"
     ]
    }
   ],
   "source": [
    "from sklearn.metrics import accuracy_score, precision_score, f1_score, classification_report\n",
    "\n",
    "print(classification_report(y_test, y_pred, zero_division=0))"
   ]
  },
  {
   "cell_type": "code",
   "execution_count": 99,
   "metadata": {},
   "outputs": [
    {
     "name": "stdout",
     "output_type": "stream",
     "text": [
      "[2007 2008 2009 2010 2011 2012 2013 2014 2015 2016 2017] [20108  2746   582   210   123    63    36    24    18    24    17]\n"
     ]
    },
    {
     "data": {
      "image/png": "[encoded data removed]",
      "text/plain": [
       "<Figure size 640x480 with 1 Axes>"
      ]
     },
     "metadata": {},
     "output_type": "display_data"
    }
   ],
   "source": [
    "unique_labels, label_counts = np.unique(y_train, return_counts=True)\n",
    "plt.bar(unique_labels, label_counts)\n",
    "print(unique_labels, label_counts)"
   ]
  },
  {
   "attachments": {},
   "cell_type": "markdown",
   "metadata": {},
   "source": [
    "### Word2Vect using GloVe"
   ]
  },
  {
   "attachments": {},
   "cell_type": "markdown",
   "metadata": {},
   "source": [
    "### Dense data regression"
   ]
  }
 ],
 "metadata": {
  "kernelspec": {
   "display_name": "Python 3",
   "language": "python",
   "name": "python3"
  },
  "language_info": {
   "codemirror_mode": {
    "name": "ipython",
    "version": 3
   },
   "file_extension": ".py",
   "mimetype": "text/x-python",
   "name": "python",
   "nbconvert_exporter": "python",
   "pygments_lexer": "ipython3",
   "version": "3.10.7"
  },
  "orig_nbformat": 4
 },
 "nbformat": 4,
 "nbformat_minor": 2
}
