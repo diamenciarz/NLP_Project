{
 "cells": [
  {
   "cell_type": "code",
   "execution_count": 76,
   "metadata": {},
   "outputs": [
    {
     "ename": "",
     "evalue": "",
     "output_type": "error",
     "traceback": [
      "\u001b[1;31mCanceled future for execute_request message before replies were done"
     ]
    },
    {
     "ename": "",
     "evalue": "",
     "output_type": "error",
     "traceback": [
      "\u001b[1;31mThe Kernel crashed while executing code in the the current cell or a previous cell. Please review the code in the cell(s) to identify a possible cause of the failure. Click <a href='https://aka.ms/vscodeJupyterKernelCrash'>here</a> for more info. View Jupyter <a href='command:jupyter.viewOutput'>log</a> for further details."
     ]
    }
   ],
   "source": [
    "import pandas as pd\n",
    "import json\n",
    "import numpy as np\n",
    "\n",
    "def __shorten_version(versions):\n",
    "    return int(versions[-1][\"created\"].split()[3])\n",
    "\n",
    "def __parse_json_record(record):\n",
    "    record_dict = [json.loads(record)]\n",
    "    record_df = pd.DataFrame(record_dict)\n",
    "    version = record_df[\"versions\"].apply(lambda x: __shorten_version(x))\n",
    "    record_df.insert(8,\"version\", version)\n",
    "    record_df.drop([\"id\", \"authors\", \"submitter\", \"license\", \"journal-ref\", \"update_date\", \"comments\", \"report-no\", \"doi\", \"versions\"], axis=1, inplace=True)\n",
    "\n",
    "    return record_df\n",
    "\n",
    "years = {}\n",
    "path = 'data//arxiv-metadata-oai-snapshot.json'\n",
    "with open(path, 'r') as file:\n",
    "    records = pd.DataFrame()\n",
    "    i = 0\n",
    "    for line in file:\n",
    "        parsed_line = __parse_json_record(line)[[\"version\",\"abstract\"]]\n",
    "        year = parsed_line[\"version\"].values[0]\n",
    "\n",
    "        if i == 0:\n",
    "            records = parsed_line\n",
    "            records.index = [i]\n",
    "            i += 1\n",
    "            years.setdefault(year,0)\n",
    "            years[year] += 1\n",
    "            continue\n",
    "\n",
    "        i +=1\n",
    "        years.setdefault(year,0)\n",
    "        if years[year] >= 3:\n",
    "            continue\n",
    "        years[year] += 1\n",
    "        records.loc[i] = parsed_line.values[0]\n",
    "        \n",
    "        if i > 300000:\n",
    "            break\n",
    "\n",
    "years = pd.DataFrame(years, index=[0])\n",
    "display(years)\n",
    "np.save(\"150_records\", records.values)\n",
    "records"
   ]
  },
  {
   "cell_type": "code",
   "execution_count": 57,
   "metadata": {},
   "outputs": [
    {
     "data": {
      "text/plain": [
       "(30000, 57157)"
      ]
     },
     "execution_count": 57,
     "metadata": {},
     "output_type": "execute_result"
    }
   ],
   "source": [
    "from scipy.sparse import load_npz\n",
    "X_unfiltered = load_npz(\"30k_regression_dataset.npz\")\n",
    "X_unfiltered.shape\n"
   ]
  },
  {
   "cell_type": "code",
   "execution_count": 58,
   "metadata": {},
   "outputs": [
    {
     "data": {
      "text/plain": [
       "(30000,)"
      ]
     },
     "execution_count": 58,
     "metadata": {},
     "output_type": "execute_result"
    }
   ],
   "source": [
    "import numpy as np\n",
    "\n",
    "y_unfiltered = np.load(\"30k_regression_labels.npy\")\n",
    "y_unfiltered.shape"
   ]
  },
  {
   "cell_type": "code",
   "execution_count": 59,
   "metadata": {},
   "outputs": [
    {
     "name": "stdout",
     "output_type": "stream",
     "text": [
      "[2007 2008 2009 2010 2011 2012 2013 2014 2015 2016 2017 2018 2019 2020\n",
      " 2021 2022 2023] [25135  3433   728   263   153    79    45    30    22    30    21    15\n",
      "    15     9     8    13     1]\n",
      "Picked years [2007 2008 2009 2010 2011 2012 2013 2014 2015 2016 2017]\n"
     ]
    },
    {
     "data": {
      "image/png": "[encoded data removed]",
      "text/plain": [
       "<Figure size 640x480 with 1 Axes>"
      ]
     },
     "metadata": {},
     "output_type": "display_data"
    }
   ],
   "source": [
    "import matplotlib.pyplot as plt\n",
    "\n",
    "unique_labels, label_counts = np.unique(y_unfiltered, return_counts=True)\n",
    "plt.bar(unique_labels, label_counts)\n",
    "print(unique_labels, label_counts)\n",
    "picked_years = label_counts >= 20\n",
    "picked_years = unique_labels[picked_years]\n",
    "print(\"Picked years\", picked_years)"
   ]
  },
  {
   "attachments": {},
   "cell_type": "markdown",
   "metadata": {},
   "source": [
    "##### Pick lowest occurrence"
   ]
  },
  {
   "cell_type": "code",
   "execution_count": null,
   "metadata": {},
   "outputs": [],
   "source": []
  }
 ],
 "metadata": {
  "kernelspec": {
   "display_name": "Python 3",
   "language": "python",
   "name": "python3"
  },
  "language_info": {
   "codemirror_mode": {
    "name": "ipython",
    "version": 3
   },
   "file_extension": ".py",
   "mimetype": "text/x-python",
   "name": "python",
   "nbconvert_exporter": "python",
   "pygments_lexer": "ipython3",
   "version": "3.10.7"
  },
  "orig_nbformat": 4
 },
 "nbformat": 4,
 "nbformat_minor": 2
}
