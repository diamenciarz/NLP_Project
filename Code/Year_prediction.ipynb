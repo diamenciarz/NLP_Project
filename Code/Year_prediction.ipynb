{
 "cells": [
  {
   "cell_type": "code",
   "execution_count": 1,
   "metadata": {},
   "outputs": [],
   "source": [
    "import matplotlib.pyplot as plt\n",
    "import numpy as np\n",
    "import pandas as pd\n",
    "from sklearn.metrics import accuracy_score, precision_score, f1_score"
   ]
  },
  {
   "attachments": {},
   "cell_type": "markdown",
   "metadata": {},
   "source": [
    "### Data importing"
   ]
  },
  {
   "attachments": {},
   "cell_type": "markdown",
   "metadata": {},
   "source": [
    "##### TF-IDF"
   ]
  },
  {
   "cell_type": "code",
   "execution_count": 2,
   "metadata": {},
   "outputs": [
    {
     "data": {
      "text/plain": [
       "(30000, 57157)"
      ]
     },
     "execution_count": 2,
     "metadata": {},
     "output_type": "execute_result"
    }
   ],
   "source": [
    "from scipy.sparse import load_npz\n",
    "X_unfiltered = load_npz(\"30k_regression_dataset.npz\")\n",
    "X_unfiltered.shape\n"
   ]
  },
  {
   "cell_type": "code",
   "execution_count": 3,
   "metadata": {},
   "outputs": [
    {
     "data": {
      "text/plain": [
       "(30000,)"
      ]
     },
     "execution_count": 3,
     "metadata": {},
     "output_type": "execute_result"
    }
   ],
   "source": [
    "import numpy as np\n",
    "\n",
    "y_unfiltered = np.load(\"30k_regression_labels.npy\")\n",
    "y_unfiltered.shape"
   ]
  },
  {
   "attachments": {},
   "cell_type": "markdown",
   "metadata": {},
   "source": [
    "##### Delete years with less than 10 instances"
   ]
  },
  {
   "cell_type": "code",
   "execution_count": 4,
   "metadata": {},
   "outputs": [
    {
     "name": "stdout",
     "output_type": "stream",
     "text": [
      "[2007 2008 2009 2010 2011 2012 2013 2014 2015 2016 2017 2018 2019 2020\n",
      " 2021 2022 2023] [25135  3433   728   263   153    79    45    30    22    30    21    15\n",
      "    15     9     8    13     1]\n",
      "Picked years [2007 2008 2009 2010 2011 2012 2013 2014 2015 2016 2017]\n"
     ]
    },
    {
     "data": {
      "image/png": "[encoded data removed]",
      "text/plain": [
       "<Figure size 640x480 with 1 Axes>"
      ]
     },
     "metadata": {},
     "output_type": "display_data"
    }
   ],
   "source": [
    "unique_labels, label_counts = np.unique(y_unfiltered, return_counts=True)\n",
    "plt.bar(unique_labels, label_counts)\n",
    "print(unique_labels, label_counts)\n",
    "picked_years = label_counts >= 20\n",
    "picked_years = unique_labels[picked_years]\n",
    "print(\"Picked years\", picked_years)"
   ]
  },
  {
   "cell_type": "code",
   "execution_count": 5,
   "metadata": {},
   "outputs": [],
   "source": [
    "mask = np.array([x in picked_years for x in y_unfiltered]) \n",
    "X = X_unfiltered[mask]\n",
    "y = y_unfiltered[mask]"
   ]
  },
  {
   "attachments": {},
   "cell_type": "markdown",
   "metadata": {},
   "source": [
    "### Sparse data regression"
   ]
  },
  {
   "cell_type": "code",
   "execution_count": 63,
   "metadata": {},
   "outputs": [
    {
     "name": "stdout",
     "output_type": "stream",
     "text": [
      "Predictions: [2007.  2007.4 2007.  ... 2007.  2007.6 2007.6] Correct: [2007 2007 2007 ... 2007 2007 2007]\n",
      "Mean Squared Error: 0.7212291249164993\n"
     ]
    }
   ],
   "source": [
    "from sklearn.neighbors import KNeighborsRegressor\n",
    "from sklearn.model_selection import train_test_split\n",
    "from sklearn.metrics import mean_squared_error\n",
    "\n",
    "X_train, X_test, y_train, y_test = train_test_split(X, y, test_size=0.2, random_state=42, stratify=y)\n",
    "\n",
    "# Initialize the Ridge regression model\n",
    "ridge_model = KNeighborsRegressor()\n",
    "\n",
    "# Train the Ridge regression model\n",
    "ridge_model.fit(X_train, y_train)\n",
    "\n",
    "# Make predictions on the test set\n",
    "y_pred = ridge_model.predict(X_test)\n",
    "print(\"Predictions:\", y_pred, \"Correct:\", y_test)\n",
    "# Calculate the mean squared error\n",
    "mse = mean_squared_error(y_test, y_pred)\n",
    "print('Mean Squared Error:', mse)"
   ]
  },
  {
   "cell_type": "code",
   "execution_count": 64,
   "metadata": {},
   "outputs": [
    {
     "data": {
      "text/plain": [
       "<BarContainer object of 6 artists>"
      ]
     },
     "execution_count": 64,
     "metadata": {},
     "output_type": "execute_result"
    },
    {
     "data": {
      "image/png": "[encoded data removed]",
      "text/plain": [
       "<Figure size 640x480 with 1 Axes>"
      ]
     },
     "metadata": {},
     "output_type": "display_data"
    }
   ],
   "source": [
    "a,b = np.unique(np.round(y_pred), return_counts=True)\n",
    "plt.bar(a,b)\n"
   ]
  },
  {
   "cell_type": "code",
   "execution_count": 65,
   "metadata": {},
   "outputs": [
    {
     "name": "stdout",
     "output_type": "stream",
     "text": [
      "              precision    recall  f1-score   support\n",
      "\n",
      "        2007       0.86      0.85      0.85      5027\n",
      "        2008       0.15      0.19      0.17       687\n",
      "        2009       0.07      0.05      0.06       146\n",
      "        2010       0.17      0.02      0.03        53\n",
      "        2011       0.00      0.00      0.00        30\n",
      "        2012       0.00      0.00      0.00        16\n",
      "        2013       0.00      0.00      0.00         9\n",
      "        2014       0.00      0.00      0.00         6\n",
      "        2015       0.00      0.00      0.00         4\n",
      "        2016       0.00      0.00      0.00         6\n",
      "        2017       0.00      0.00      0.00         4\n",
      "\n",
      "    accuracy                           0.74      5988\n",
      "   macro avg       0.11      0.10      0.10      5988\n",
      "weighted avg       0.74      0.74      0.74      5988\n",
      "\n"
     ]
    }
   ],
   "source": [
    "from sklearn.metrics import accuracy_score, precision_score, f1_score, classification_report\n",
    "\n",
    "print(classification_report(y_test, np.round(y_pred), zero_division=0))"
   ]
  },
  {
   "attachments": {},
   "cell_type": "markdown",
   "metadata": {},
   "source": [
    "##### KNN Regression"
   ]
  },
  {
   "cell_type": "code",
   "execution_count": 66,
   "metadata": {},
   "outputs": [
    {
     "data": {
      "text/html": [
       "<div>\n",
       "<style scoped>\n",
       "    .dataframe tbody tr th:only-of-type {\n",
       "        vertical-align: middle;\n",
       "    }\n",
       "\n",
       "    .dataframe tbody tr th {\n",
       "        vertical-align: top;\n",
       "    }\n",
       "\n",
       "    .dataframe thead th {\n",
       "        text-align: right;\n",
       "    }\n",
       "</style>\n",
       "<table border=\"1\" class=\"dataframe\">\n",
       "  <thead>\n",
       "    <tr style=\"text-align: right;\">\n",
       "      <th></th>\n",
       "      <th>2007</th>\n",
       "      <th>2008</th>\n",
       "      <th>2009</th>\n",
       "      <th>2010</th>\n",
       "      <th>2011</th>\n",
       "      <th>2012</th>\n",
       "      <th>2013</th>\n",
       "      <th>2014</th>\n",
       "      <th>2015</th>\n",
       "      <th>2016</th>\n",
       "      <th>2017</th>\n",
       "      <th>accuracy</th>\n",
       "      <th>macro avg</th>\n",
       "      <th>weighted avg</th>\n",
       "    </tr>\n",
       "  </thead>\n",
       "  <tbody>\n",
       "    <tr>\n",
       "      <th>precision</th>\n",
       "      <td>0.856715</td>\n",
       "      <td>0.149373</td>\n",
       "      <td>0.071429</td>\n",
       "      <td>0.166667</td>\n",
       "      <td>0.0</td>\n",
       "      <td>0.0</td>\n",
       "      <td>0.0</td>\n",
       "      <td>0.0</td>\n",
       "      <td>0.0</td>\n",
       "      <td>0.0</td>\n",
       "      <td>0.0</td>\n",
       "      <td>0.739145</td>\n",
       "      <td>0.113108</td>\n",
       "      <td>0.739577</td>\n",
       "    </tr>\n",
       "    <tr>\n",
       "      <th>recall</th>\n",
       "      <td>0.852795</td>\n",
       "      <td>0.190684</td>\n",
       "      <td>0.047945</td>\n",
       "      <td>0.018868</td>\n",
       "      <td>0.0</td>\n",
       "      <td>0.0</td>\n",
       "      <td>0.0</td>\n",
       "      <td>0.0</td>\n",
       "      <td>0.0</td>\n",
       "      <td>0.0</td>\n",
       "      <td>0.0</td>\n",
       "      <td>0.739145</td>\n",
       "      <td>0.100936</td>\n",
       "      <td>0.739145</td>\n",
       "    </tr>\n",
       "    <tr>\n",
       "      <th>f1-score</th>\n",
       "      <td>0.854750</td>\n",
       "      <td>0.167519</td>\n",
       "      <td>0.057377</td>\n",
       "      <td>0.033898</td>\n",
       "      <td>0.0</td>\n",
       "      <td>0.0</td>\n",
       "      <td>0.0</td>\n",
       "      <td>0.0</td>\n",
       "      <td>0.0</td>\n",
       "      <td>0.0</td>\n",
       "      <td>0.0</td>\n",
       "      <td>0.739145</td>\n",
       "      <td>0.101231</td>\n",
       "      <td>0.738492</td>\n",
       "    </tr>\n",
       "    <tr>\n",
       "      <th>support</th>\n",
       "      <td>5027.000000</td>\n",
       "      <td>687.000000</td>\n",
       "      <td>146.000000</td>\n",
       "      <td>53.000000</td>\n",
       "      <td>30.0</td>\n",
       "      <td>16.0</td>\n",
       "      <td>9.0</td>\n",
       "      <td>6.0</td>\n",
       "      <td>4.0</td>\n",
       "      <td>6.0</td>\n",
       "      <td>4.0</td>\n",
       "      <td>0.739145</td>\n",
       "      <td>5988.000000</td>\n",
       "      <td>5988.000000</td>\n",
       "    </tr>\n",
       "  </tbody>\n",
       "</table>\n",
       "</div>"
      ],
      "text/plain": [
       "                  2007        2008        2009       2010  2011  2012  2013   \n",
       "precision     0.856715    0.149373    0.071429   0.166667   0.0   0.0   0.0  \\\n",
       "recall        0.852795    0.190684    0.047945   0.018868   0.0   0.0   0.0   \n",
       "f1-score      0.854750    0.167519    0.057377   0.033898   0.0   0.0   0.0   \n",
       "support    5027.000000  687.000000  146.000000  53.000000  30.0  16.0   9.0   \n",
       "\n",
       "           2014  2015  2016  2017  accuracy    macro avg  weighted avg  \n",
       "precision   0.0   0.0   0.0   0.0  0.739145     0.113108      0.739577  \n",
       "recall      0.0   0.0   0.0   0.0  0.739145     0.100936      0.739145  \n",
       "f1-score    0.0   0.0   0.0   0.0  0.739145     0.101231      0.738492  \n",
       "support     6.0   4.0   6.0   4.0  0.739145  5988.000000   5988.000000  "
      ]
     },
     "execution_count": 66,
     "metadata": {},
     "output_type": "execute_result"
    }
   ],
   "source": [
    "knn_regression_results = pd.DataFrame(classification_report(y_test, np.round(y_pred), zero_division=0, output_dict=True))\n",
    "knn_regression_results"
   ]
  },
  {
   "cell_type": "code",
   "execution_count": 67,
   "metadata": {},
   "outputs": [
    {
     "data": {
      "text/plain": [
       "<BarContainer object of 11 artists>"
      ]
     },
     "execution_count": 67,
     "metadata": {},
     "output_type": "execute_result"
    },
    {
     "data": {
      "image/png": "[encoded data removed]",
      "text/plain": [
       "<Figure size 640x480 with 1 Axes>"
      ]
     },
     "metadata": {},
     "output_type": "display_data"
    }
   ],
   "source": [
    "plt.bar(knn_regression_results.columns[:-3], knn_regression_results.loc[\"f1-score\",\"2007\":\"2017\"])\n"
   ]
  },
  {
   "cell_type": "code",
   "execution_count": 68,
   "metadata": {},
   "outputs": [
    {
     "data": {
      "text/html": [
       "<div>\n",
       "<style scoped>\n",
       "    .dataframe tbody tr th:only-of-type {\n",
       "        vertical-align: middle;\n",
       "    }\n",
       "\n",
       "    .dataframe tbody tr th {\n",
       "        vertical-align: top;\n",
       "    }\n",
       "\n",
       "    .dataframe thead th {\n",
       "        text-align: right;\n",
       "    }\n",
       "</style>\n",
       "<table border=\"1\" class=\"dataframe\">\n",
       "  <thead>\n",
       "    <tr style=\"text-align: right;\">\n",
       "      <th></th>\n",
       "      <th>F1Score</th>\n",
       "      <th>Label</th>\n",
       "      <th>Model</th>\n",
       "    </tr>\n",
       "  </thead>\n",
       "  <tbody>\n",
       "    <tr>\n",
       "      <th>2007</th>\n",
       "      <td>0.854750</td>\n",
       "      <td>2007</td>\n",
       "      <td>KnnRegression</td>\n",
       "    </tr>\n",
       "    <tr>\n",
       "      <th>2008</th>\n",
       "      <td>0.167519</td>\n",
       "      <td>2008</td>\n",
       "      <td>KnnRegression</td>\n",
       "    </tr>\n",
       "    <tr>\n",
       "      <th>2009</th>\n",
       "      <td>0.057377</td>\n",
       "      <td>2009</td>\n",
       "      <td>KnnRegression</td>\n",
       "    </tr>\n",
       "    <tr>\n",
       "      <th>2010</th>\n",
       "      <td>0.033898</td>\n",
       "      <td>2010</td>\n",
       "      <td>KnnRegression</td>\n",
       "    </tr>\n",
       "    <tr>\n",
       "      <th>2011</th>\n",
       "      <td>0.000000</td>\n",
       "      <td>2011</td>\n",
       "      <td>KnnRegression</td>\n",
       "    </tr>\n",
       "    <tr>\n",
       "      <th>2012</th>\n",
       "      <td>0.000000</td>\n",
       "      <td>2012</td>\n",
       "      <td>KnnRegression</td>\n",
       "    </tr>\n",
       "    <tr>\n",
       "      <th>2013</th>\n",
       "      <td>0.000000</td>\n",
       "      <td>2013</td>\n",
       "      <td>KnnRegression</td>\n",
       "    </tr>\n",
       "    <tr>\n",
       "      <th>2014</th>\n",
       "      <td>0.000000</td>\n",
       "      <td>2014</td>\n",
       "      <td>KnnRegression</td>\n",
       "    </tr>\n",
       "    <tr>\n",
       "      <th>2015</th>\n",
       "      <td>0.000000</td>\n",
       "      <td>2015</td>\n",
       "      <td>KnnRegression</td>\n",
       "    </tr>\n",
       "    <tr>\n",
       "      <th>2016</th>\n",
       "      <td>0.000000</td>\n",
       "      <td>2016</td>\n",
       "      <td>KnnRegression</td>\n",
       "    </tr>\n",
       "    <tr>\n",
       "      <th>2017</th>\n",
       "      <td>0.000000</td>\n",
       "      <td>2017</td>\n",
       "      <td>KnnRegression</td>\n",
       "    </tr>\n",
       "  </tbody>\n",
       "</table>\n",
       "</div>"
      ],
      "text/plain": [
       "       F1Score Label          Model\n",
       "2007  0.854750  2007  KnnRegression\n",
       "2008  0.167519  2008  KnnRegression\n",
       "2009  0.057377  2009  KnnRegression\n",
       "2010  0.033898  2010  KnnRegression\n",
       "2011  0.000000  2011  KnnRegression\n",
       "2012  0.000000  2012  KnnRegression\n",
       "2013  0.000000  2013  KnnRegression\n",
       "2014  0.000000  2014  KnnRegression\n",
       "2015  0.000000  2015  KnnRegression\n",
       "2016  0.000000  2016  KnnRegression\n",
       "2017  0.000000  2017  KnnRegression"
      ]
     },
     "execution_count": 68,
     "metadata": {},
     "output_type": "execute_result"
    }
   ],
   "source": [
    "model1_results = pd.DataFrame({\"F1Score\":knn_regression_results.loc[\"f1-score\",\"2007\":\"2017\"], \"Label\":knn_regression_results.columns[:-3],\"Model\":[\"KnnRegression\"]*11})\n",
    "model1_results"
   ]
  },
  {
   "cell_type": "code",
   "execution_count": 8,
   "metadata": {},
   "outputs": [],
   "source": [
    "from sklearn.tree import DecisionTreeClassifier\n",
    "from sklearn.model_selection import train_test_split\n",
    "from sklearn.metrics import mean_squared_error\n",
    "\n",
    "X_train, X_test, y_train, y_test = train_test_split(X, y, test_size=0.2, random_state=42, stratify=y)\n",
    "\n",
    "# Initialize the Ridge regression model\n",
    "ridge_model = DecisionTreeClassifier()\n",
    "\n",
    "# Train the Ridge regression model\n",
    "ridge_model.fit(X_train, y_train)\n",
    "\n",
    "# Make predictions on the test set\n",
    "y_pred = ridge_model.predict(X_test)\n",
    "print(\"Predictions:\", y_pred, \"Correct:\", y_test)\n",
    "# Calculate the mean squared error\n",
    "mse = mean_squared_error(y_test, y_pred)\n",
    "print('Mean Squared Error:', mse)"
   ]
  },
  {
   "cell_type": "code",
   "execution_count": 46,
   "metadata": {},
   "outputs": [
    {
     "data": {
      "text/plain": [
       "<BarContainer object of 11 artists>"
      ]
     },
     "execution_count": 46,
     "metadata": {},
     "output_type": "execute_result"
    },
    {
     "data": {
      "image/png": "[encoded data removed]",
      "text/plain": [
       "<Figure size 640x480 with 1 Axes>"
      ]
     },
     "metadata": {},
     "output_type": "display_data"
    }
   ],
   "source": [
    "a,b = np.unique(np.round(y_pred), return_counts=True)\n",
    "plt.bar(a,b)\n"
   ]
  },
  {
   "cell_type": "code",
   "execution_count": 47,
   "metadata": {},
   "outputs": [
    {
     "name": "stdout",
     "output_type": "stream",
     "text": [
      "              precision    recall  f1-score   support\n",
      "\n",
      "        2007       0.84      0.87      0.85      5027\n",
      "        2008       0.12      0.11      0.11       687\n",
      "        2009       0.06      0.03      0.04       146\n",
      "        2010       0.06      0.04      0.05        53\n",
      "        2011       0.00      0.00      0.00        30\n",
      "        2012       0.00      0.00      0.00        16\n",
      "        2013       0.00      0.00      0.00         9\n",
      "        2014       0.00      0.00      0.00         6\n",
      "        2015       0.00      0.00      0.00         4\n",
      "        2016       0.00      0.00      0.00         6\n",
      "        2017       0.00      0.00      0.00         4\n",
      "\n",
      "    accuracy                           0.74      5988\n",
      "   macro avg       0.10      0.10      0.10      5988\n",
      "weighted avg       0.72      0.74      0.73      5988\n",
      "\n"
     ]
    }
   ],
   "source": [
    "from sklearn.metrics import accuracy_score, precision_score, f1_score, classification_report\n",
    "\n",
    "print(classification_report(y_test, np.round(y_pred), zero_division=0))"
   ]
  },
  {
   "cell_type": "code",
   "execution_count": 48,
   "metadata": {},
   "outputs": [
    {
     "data": {
      "text/html": [
       "<div>\n",
       "<style scoped>\n",
       "    .dataframe tbody tr th:only-of-type {\n",
       "        vertical-align: middle;\n",
       "    }\n",
       "\n",
       "    .dataframe tbody tr th {\n",
       "        vertical-align: top;\n",
       "    }\n",
       "\n",
       "    .dataframe thead th {\n",
       "        text-align: right;\n",
       "    }\n",
       "</style>\n",
       "<table border=\"1\" class=\"dataframe\">\n",
       "  <thead>\n",
       "    <tr style=\"text-align: right;\">\n",
       "      <th></th>\n",
       "      <th>2007</th>\n",
       "      <th>2008</th>\n",
       "      <th>2009</th>\n",
       "      <th>2010</th>\n",
       "      <th>2011</th>\n",
       "      <th>2012</th>\n",
       "      <th>2013</th>\n",
       "      <th>2014</th>\n",
       "      <th>2015</th>\n",
       "      <th>2016</th>\n",
       "      <th>2017</th>\n",
       "      <th>accuracy</th>\n",
       "      <th>macro avg</th>\n",
       "      <th>weighted avg</th>\n",
       "    </tr>\n",
       "  </thead>\n",
       "  <tbody>\n",
       "    <tr>\n",
       "      <th>precision</th>\n",
       "      <td>0.841230</td>\n",
       "      <td>0.119237</td>\n",
       "      <td>0.055556</td>\n",
       "      <td>0.057143</td>\n",
       "      <td>0.0</td>\n",
       "      <td>0.0</td>\n",
       "      <td>0.0</td>\n",
       "      <td>0.0</td>\n",
       "      <td>0.0</td>\n",
       "      <td>0.0</td>\n",
       "      <td>0.0</td>\n",
       "      <td>0.740147</td>\n",
       "      <td>0.097560</td>\n",
       "      <td>0.721763</td>\n",
       "    </tr>\n",
       "    <tr>\n",
       "      <th>recall</th>\n",
       "      <td>0.865327</td>\n",
       "      <td>0.109170</td>\n",
       "      <td>0.034247</td>\n",
       "      <td>0.037736</td>\n",
       "      <td>0.0</td>\n",
       "      <td>0.0</td>\n",
       "      <td>0.0</td>\n",
       "      <td>0.0</td>\n",
       "      <td>0.0</td>\n",
       "      <td>0.0</td>\n",
       "      <td>0.0</td>\n",
       "      <td>0.740147</td>\n",
       "      <td>0.095135</td>\n",
       "      <td>0.740147</td>\n",
       "    </tr>\n",
       "    <tr>\n",
       "      <th>f1-score</th>\n",
       "      <td>0.853108</td>\n",
       "      <td>0.113982</td>\n",
       "      <td>0.042373</td>\n",
       "      <td>0.045455</td>\n",
       "      <td>0.0</td>\n",
       "      <td>0.0</td>\n",
       "      <td>0.0</td>\n",
       "      <td>0.0</td>\n",
       "      <td>0.0</td>\n",
       "      <td>0.0</td>\n",
       "      <td>0.0</td>\n",
       "      <td>0.740147</td>\n",
       "      <td>0.095902</td>\n",
       "      <td>0.730708</td>\n",
       "    </tr>\n",
       "    <tr>\n",
       "      <th>support</th>\n",
       "      <td>5027.000000</td>\n",
       "      <td>687.000000</td>\n",
       "      <td>146.000000</td>\n",
       "      <td>53.000000</td>\n",
       "      <td>30.0</td>\n",
       "      <td>16.0</td>\n",
       "      <td>9.0</td>\n",
       "      <td>6.0</td>\n",
       "      <td>4.0</td>\n",
       "      <td>6.0</td>\n",
       "      <td>4.0</td>\n",
       "      <td>0.740147</td>\n",
       "      <td>5988.000000</td>\n",
       "      <td>5988.000000</td>\n",
       "    </tr>\n",
       "  </tbody>\n",
       "</table>\n",
       "</div>"
      ],
      "text/plain": [
       "                  2007        2008        2009       2010  2011  2012  2013   \n",
       "precision     0.841230    0.119237    0.055556   0.057143   0.0   0.0   0.0  \\\n",
       "recall        0.865327    0.109170    0.034247   0.037736   0.0   0.0   0.0   \n",
       "f1-score      0.853108    0.113982    0.042373   0.045455   0.0   0.0   0.0   \n",
       "support    5027.000000  687.000000  146.000000  53.000000  30.0  16.0   9.0   \n",
       "\n",
       "           2014  2015  2016  2017  accuracy    macro avg  weighted avg  \n",
       "precision   0.0   0.0   0.0   0.0  0.740147     0.097560      0.721763  \n",
       "recall      0.0   0.0   0.0   0.0  0.740147     0.095135      0.740147  \n",
       "f1-score    0.0   0.0   0.0   0.0  0.740147     0.095902      0.730708  \n",
       "support     6.0   4.0   6.0   4.0  0.740147  5988.000000   5988.000000  "
      ]
     },
     "execution_count": 48,
     "metadata": {},
     "output_type": "execute_result"
    }
   ],
   "source": [
    "decision_tree_classifier_results = pd.DataFrame(classification_report(y_test, np.round(y_pred), zero_division=0, output_dict=True))\n",
    "decision_tree_classifier_results"
   ]
  },
  {
   "cell_type": "code",
   "execution_count": 49,
   "metadata": {},
   "outputs": [
    {
     "data": {
      "text/plain": [
       "<BarContainer object of 11 artists>"
      ]
     },
     "execution_count": 49,
     "metadata": {},
     "output_type": "execute_result"
    },
    {
     "data": {
      "image/png": "[encoded data removed]",
      "text/plain": [
       "<Figure size 640x480 with 1 Axes>"
      ]
     },
     "metadata": {},
     "output_type": "display_data"
    }
   ],
   "source": [
    "plt.bar(decision_tree_classifier_results.columns[:-3], decision_tree_classifier_results.loc[\"f1-score\",\"2007\":\"2017\"])\n"
   ]
  },
  {
   "cell_type": "code",
   "execution_count": 54,
   "metadata": {},
   "outputs": [
    {
     "data": {
      "text/html": [
       "<div>\n",
       "<style scoped>\n",
       "    .dataframe tbody tr th:only-of-type {\n",
       "        vertical-align: middle;\n",
       "    }\n",
       "\n",
       "    .dataframe tbody tr th {\n",
       "        vertical-align: top;\n",
       "    }\n",
       "\n",
       "    .dataframe thead th {\n",
       "        text-align: right;\n",
       "    }\n",
       "</style>\n",
       "<table border=\"1\" class=\"dataframe\">\n",
       "  <thead>\n",
       "    <tr style=\"text-align: right;\">\n",
       "      <th></th>\n",
       "      <th>F1Score</th>\n",
       "      <th>Label</th>\n",
       "      <th>Model</th>\n",
       "    </tr>\n",
       "  </thead>\n",
       "  <tbody>\n",
       "    <tr>\n",
       "      <th>2007</th>\n",
       "      <td>0.853108</td>\n",
       "      <td>2007</td>\n",
       "      <td>TreeClassifier</td>\n",
       "    </tr>\n",
       "    <tr>\n",
       "      <th>2008</th>\n",
       "      <td>0.113982</td>\n",
       "      <td>2008</td>\n",
       "      <td>TreeClassifier</td>\n",
       "    </tr>\n",
       "    <tr>\n",
       "      <th>2009</th>\n",
       "      <td>0.042373</td>\n",
       "      <td>2009</td>\n",
       "      <td>TreeClassifier</td>\n",
       "    </tr>\n",
       "    <tr>\n",
       "      <th>2010</th>\n",
       "      <td>0.045455</td>\n",
       "      <td>2010</td>\n",
       "      <td>TreeClassifier</td>\n",
       "    </tr>\n",
       "    <tr>\n",
       "      <th>2011</th>\n",
       "      <td>0.000000</td>\n",
       "      <td>2011</td>\n",
       "      <td>TreeClassifier</td>\n",
       "    </tr>\n",
       "    <tr>\n",
       "      <th>2012</th>\n",
       "      <td>0.000000</td>\n",
       "      <td>2012</td>\n",
       "      <td>TreeClassifier</td>\n",
       "    </tr>\n",
       "    <tr>\n",
       "      <th>2013</th>\n",
       "      <td>0.000000</td>\n",
       "      <td>2013</td>\n",
       "      <td>TreeClassifier</td>\n",
       "    </tr>\n",
       "    <tr>\n",
       "      <th>2014</th>\n",
       "      <td>0.000000</td>\n",
       "      <td>2014</td>\n",
       "      <td>TreeClassifier</td>\n",
       "    </tr>\n",
       "    <tr>\n",
       "      <th>2015</th>\n",
       "      <td>0.000000</td>\n",
       "      <td>2015</td>\n",
       "      <td>TreeClassifier</td>\n",
       "    </tr>\n",
       "    <tr>\n",
       "      <th>2016</th>\n",
       "      <td>0.000000</td>\n",
       "      <td>2016</td>\n",
       "      <td>TreeClassifier</td>\n",
       "    </tr>\n",
       "    <tr>\n",
       "      <th>2017</th>\n",
       "      <td>0.000000</td>\n",
       "      <td>2017</td>\n",
       "      <td>TreeClassifier</td>\n",
       "    </tr>\n",
       "  </tbody>\n",
       "</table>\n",
       "</div>"
      ],
      "text/plain": [
       "       F1Score Label           Model\n",
       "2007  0.853108  2007  TreeClassifier\n",
       "2008  0.113982  2008  TreeClassifier\n",
       "2009  0.042373  2009  TreeClassifier\n",
       "2010  0.045455  2010  TreeClassifier\n",
       "2011  0.000000  2011  TreeClassifier\n",
       "2012  0.000000  2012  TreeClassifier\n",
       "2013  0.000000  2013  TreeClassifier\n",
       "2014  0.000000  2014  TreeClassifier\n",
       "2015  0.000000  2015  TreeClassifier\n",
       "2016  0.000000  2016  TreeClassifier\n",
       "2017  0.000000  2017  TreeClassifier"
      ]
     },
     "execution_count": 54,
     "metadata": {},
     "output_type": "execute_result"
    }
   ],
   "source": [
    "model2_results = pd.DataFrame({\"F1Score\":decision_tree_classifier_results.loc[\"f1-score\",\"2007\":\"2017\"], \"Label\":decision_tree_classifier_results.columns[:-3],\"Model\":[\"TreeClassifier\"]*11})\n",
    "model2_results"
   ]
  },
  {
   "attachments": {},
   "cell_type": "markdown",
   "metadata": {},
   "source": [
    "### Sparse data classification"
   ]
  },
  {
   "cell_type": "code",
   "execution_count": 51,
   "metadata": {},
   "outputs": [
    {
     "name": "stdout",
     "output_type": "stream",
     "text": [
      "Predictions: [2007 2007 2007 ... 2007 2010 2008] Correct: [2007 2007 2007 ... 2007 2007 2007]\n"
     ]
    }
   ],
   "source": [
    "from sklearn.neighbors import KNeighborsClassifier\n",
    "\n",
    "ridge_model = KNeighborsClassifier(n_neighbors=1)\n",
    "\n",
    "# Train the Ridge regression model\n",
    "ridge_model.fit(X_train, y_train)\n",
    "\n",
    "# Make predictions on the test set\n",
    "y_pred = ridge_model.predict(X_test)\n",
    "print(\"Predictions:\", y_pred, \"Correct:\", y_test)"
   ]
  },
  {
   "cell_type": "code",
   "execution_count": 55,
   "metadata": {},
   "outputs": [
    {
     "name": "stdout",
     "output_type": "stream",
     "text": [
      "              precision    recall  f1-score   support\n",
      "\n",
      "        2007       0.86      0.85      0.85      5027\n",
      "        2008       0.19      0.20      0.19       687\n",
      "        2009       0.09      0.09      0.09       146\n",
      "        2010       0.02      0.02      0.02        53\n",
      "        2011       0.04      0.03      0.03        30\n",
      "        2012       0.11      0.12      0.11        16\n",
      "        2013       0.12      0.11      0.12         9\n",
      "        2014       0.00      0.00      0.00         6\n",
      "        2015       0.33      0.25      0.29         4\n",
      "        2016       0.17      0.17      0.17         6\n",
      "        2017       0.00      0.00      0.00         4\n",
      "\n",
      "    accuracy                           0.74      5988\n",
      "   macro avg       0.17      0.17      0.17      5988\n",
      "weighted avg       0.74      0.74      0.74      5988\n",
      "\n"
     ]
    }
   ],
   "source": [
    "from sklearn.metrics import accuracy_score, precision_score, f1_score, classification_report\n",
    "\n",
    "print(classification_report(y_test, y_pred, zero_division=0))"
   ]
  },
  {
   "cell_type": "code",
   "execution_count": 56,
   "metadata": {},
   "outputs": [
    {
     "data": {
      "text/html": [
       "<div>\n",
       "<style scoped>\n",
       "    .dataframe tbody tr th:only-of-type {\n",
       "        vertical-align: middle;\n",
       "    }\n",
       "\n",
       "    .dataframe tbody tr th {\n",
       "        vertical-align: top;\n",
       "    }\n",
       "\n",
       "    .dataframe thead th {\n",
       "        text-align: right;\n",
       "    }\n",
       "</style>\n",
       "<table border=\"1\" class=\"dataframe\">\n",
       "  <thead>\n",
       "    <tr style=\"text-align: right;\">\n",
       "      <th></th>\n",
       "      <th>2007</th>\n",
       "      <th>2008</th>\n",
       "      <th>2009</th>\n",
       "      <th>2010</th>\n",
       "      <th>2011</th>\n",
       "      <th>2012</th>\n",
       "      <th>2013</th>\n",
       "      <th>2014</th>\n",
       "      <th>2015</th>\n",
       "      <th>2016</th>\n",
       "      <th>2017</th>\n",
       "      <th>accuracy</th>\n",
       "      <th>macro avg</th>\n",
       "      <th>weighted avg</th>\n",
       "    </tr>\n",
       "  </thead>\n",
       "  <tbody>\n",
       "    <tr>\n",
       "      <th>precision</th>\n",
       "      <td>0.856002</td>\n",
       "      <td>0.190341</td>\n",
       "      <td>0.086667</td>\n",
       "      <td>0.017857</td>\n",
       "      <td>0.035714</td>\n",
       "      <td>0.105263</td>\n",
       "      <td>0.125000</td>\n",
       "      <td>0.0</td>\n",
       "      <td>0.333333</td>\n",
       "      <td>0.166667</td>\n",
       "      <td>0.0</td>\n",
       "      <td>0.741483</td>\n",
       "      <td>0.174259</td>\n",
       "      <td>0.743771</td>\n",
       "    </tr>\n",
       "    <tr>\n",
       "      <th>recall</th>\n",
       "      <td>0.852596</td>\n",
       "      <td>0.195051</td>\n",
       "      <td>0.089041</td>\n",
       "      <td>0.018868</td>\n",
       "      <td>0.033333</td>\n",
       "      <td>0.125000</td>\n",
       "      <td>0.111111</td>\n",
       "      <td>0.0</td>\n",
       "      <td>0.250000</td>\n",
       "      <td>0.166667</td>\n",
       "      <td>0.0</td>\n",
       "      <td>0.741483</td>\n",
       "      <td>0.167424</td>\n",
       "      <td>0.741483</td>\n",
       "    </tr>\n",
       "    <tr>\n",
       "      <th>f1-score</th>\n",
       "      <td>0.854295</td>\n",
       "      <td>0.192667</td>\n",
       "      <td>0.087838</td>\n",
       "      <td>0.018349</td>\n",
       "      <td>0.034483</td>\n",
       "      <td>0.114286</td>\n",
       "      <td>0.117647</td>\n",
       "      <td>0.0</td>\n",
       "      <td>0.285714</td>\n",
       "      <td>0.166667</td>\n",
       "      <td>0.0</td>\n",
       "      <td>0.741483</td>\n",
       "      <td>0.170177</td>\n",
       "      <td>0.742613</td>\n",
       "    </tr>\n",
       "    <tr>\n",
       "      <th>support</th>\n",
       "      <td>5027.000000</td>\n",
       "      <td>687.000000</td>\n",
       "      <td>146.000000</td>\n",
       "      <td>53.000000</td>\n",
       "      <td>30.000000</td>\n",
       "      <td>16.000000</td>\n",
       "      <td>9.000000</td>\n",
       "      <td>6.0</td>\n",
       "      <td>4.000000</td>\n",
       "      <td>6.000000</td>\n",
       "      <td>4.0</td>\n",
       "      <td>0.741483</td>\n",
       "      <td>5988.000000</td>\n",
       "      <td>5988.000000</td>\n",
       "    </tr>\n",
       "  </tbody>\n",
       "</table>\n",
       "</div>"
      ],
      "text/plain": [
       "                  2007        2008        2009       2010       2011   \n",
       "precision     0.856002    0.190341    0.086667   0.017857   0.035714  \\\n",
       "recall        0.852596    0.195051    0.089041   0.018868   0.033333   \n",
       "f1-score      0.854295    0.192667    0.087838   0.018349   0.034483   \n",
       "support    5027.000000  687.000000  146.000000  53.000000  30.000000   \n",
       "\n",
       "                2012      2013  2014      2015      2016  2017  accuracy   \n",
       "precision   0.105263  0.125000   0.0  0.333333  0.166667   0.0  0.741483  \\\n",
       "recall      0.125000  0.111111   0.0  0.250000  0.166667   0.0  0.741483   \n",
       "f1-score    0.114286  0.117647   0.0  0.285714  0.166667   0.0  0.741483   \n",
       "support    16.000000  9.000000   6.0  4.000000  6.000000   4.0  0.741483   \n",
       "\n",
       "             macro avg  weighted avg  \n",
       "precision     0.174259      0.743771  \n",
       "recall        0.167424      0.741483  \n",
       "f1-score      0.170177      0.742613  \n",
       "support    5988.000000   5988.000000  "
      ]
     },
     "execution_count": 56,
     "metadata": {},
     "output_type": "execute_result"
    }
   ],
   "source": [
    "knn_classifier_results = pd.DataFrame(classification_report(y_test, np.round(y_pred), zero_division=0, output_dict=True))\n",
    "knn_classifier_results"
   ]
  },
  {
   "cell_type": "code",
   "execution_count": 57,
   "metadata": {},
   "outputs": [
    {
     "data": {
      "text/plain": [
       "<BarContainer object of 11 artists>"
      ]
     },
     "execution_count": 57,
     "metadata": {},
     "output_type": "execute_result"
    },
    {
     "data": {
      "image/png": "[encoded data removed]",
      "text/plain": [
       "<Figure size 640x480 with 1 Axes>"
      ]
     },
     "metadata": {},
     "output_type": "display_data"
    }
   ],
   "source": [
    "plt.bar(knn_classifier_results.columns[:-3], knn_classifier_results.loc[\"f1-score\",\"2007\":\"2017\"])\n"
   ]
  },
  {
   "cell_type": "code",
   "execution_count": 60,
   "metadata": {},
   "outputs": [
    {
     "data": {
      "text/html": [
       "<div>\n",
       "<style scoped>\n",
       "    .dataframe tbody tr th:only-of-type {\n",
       "        vertical-align: middle;\n",
       "    }\n",
       "\n",
       "    .dataframe tbody tr th {\n",
       "        vertical-align: top;\n",
       "    }\n",
       "\n",
       "    .dataframe thead th {\n",
       "        text-align: right;\n",
       "    }\n",
       "</style>\n",
       "<table border=\"1\" class=\"dataframe\">\n",
       "  <thead>\n",
       "    <tr style=\"text-align: right;\">\n",
       "      <th></th>\n",
       "      <th>F1Score</th>\n",
       "      <th>Label</th>\n",
       "      <th>Model</th>\n",
       "    </tr>\n",
       "  </thead>\n",
       "  <tbody>\n",
       "    <tr>\n",
       "      <th>2007</th>\n",
       "      <td>0.854295</td>\n",
       "      <td>2007</td>\n",
       "      <td>KnnClassifier</td>\n",
       "    </tr>\n",
       "    <tr>\n",
       "      <th>2008</th>\n",
       "      <td>0.192667</td>\n",
       "      <td>2008</td>\n",
       "      <td>KnnClassifier</td>\n",
       "    </tr>\n",
       "    <tr>\n",
       "      <th>2009</th>\n",
       "      <td>0.087838</td>\n",
       "      <td>2009</td>\n",
       "      <td>KnnClassifier</td>\n",
       "    </tr>\n",
       "    <tr>\n",
       "      <th>2010</th>\n",
       "      <td>0.018349</td>\n",
       "      <td>2010</td>\n",
       "      <td>KnnClassifier</td>\n",
       "    </tr>\n",
       "    <tr>\n",
       "      <th>2011</th>\n",
       "      <td>0.034483</td>\n",
       "      <td>2011</td>\n",
       "      <td>KnnClassifier</td>\n",
       "    </tr>\n",
       "    <tr>\n",
       "      <th>2012</th>\n",
       "      <td>0.114286</td>\n",
       "      <td>2012</td>\n",
       "      <td>KnnClassifier</td>\n",
       "    </tr>\n",
       "    <tr>\n",
       "      <th>2013</th>\n",
       "      <td>0.117647</td>\n",
       "      <td>2013</td>\n",
       "      <td>KnnClassifier</td>\n",
       "    </tr>\n",
       "    <tr>\n",
       "      <th>2014</th>\n",
       "      <td>0.000000</td>\n",
       "      <td>2014</td>\n",
       "      <td>KnnClassifier</td>\n",
       "    </tr>\n",
       "    <tr>\n",
       "      <th>2015</th>\n",
       "      <td>0.285714</td>\n",
       "      <td>2015</td>\n",
       "      <td>KnnClassifier</td>\n",
       "    </tr>\n",
       "    <tr>\n",
       "      <th>2016</th>\n",
       "      <td>0.166667</td>\n",
       "      <td>2016</td>\n",
       "      <td>KnnClassifier</td>\n",
       "    </tr>\n",
       "    <tr>\n",
       "      <th>2017</th>\n",
       "      <td>0.000000</td>\n",
       "      <td>2017</td>\n",
       "      <td>KnnClassifier</td>\n",
       "    </tr>\n",
       "  </tbody>\n",
       "</table>\n",
       "</div>"
      ],
      "text/plain": [
       "       F1Score Label          Model\n",
       "2007  0.854295  2007  KnnClassifier\n",
       "2008  0.192667  2008  KnnClassifier\n",
       "2009  0.087838  2009  KnnClassifier\n",
       "2010  0.018349  2010  KnnClassifier\n",
       "2011  0.034483  2011  KnnClassifier\n",
       "2012  0.114286  2012  KnnClassifier\n",
       "2013  0.117647  2013  KnnClassifier\n",
       "2014  0.000000  2014  KnnClassifier\n",
       "2015  0.285714  2015  KnnClassifier\n",
       "2016  0.166667  2016  KnnClassifier\n",
       "2017  0.000000  2017  KnnClassifier"
      ]
     },
     "execution_count": 60,
     "metadata": {},
     "output_type": "execute_result"
    }
   ],
   "source": [
    "model3_results = pd.DataFrame({\"F1Score\":knn_classifier_results.loc[\"f1-score\",\"2007\":\"2017\"], \"Label\":knn_classifier_results.columns[:-3],\"Model\":[\"KnnClassifier\"]*11})\n",
    "model3_results"
   ]
  },
  {
   "cell_type": "code",
   "execution_count": 59,
   "metadata": {},
   "outputs": [
    {
     "name": "stdout",
     "output_type": "stream",
     "text": [
      "[2007 2008 2009 2010 2011 2012 2013 2014 2015 2016 2017] [20108  2746   582   210   123    63    36    24    18    24    17]\n"
     ]
    },
    {
     "data": {
      "image/png": "[encoded data removed]",
      "text/plain": [
       "<Figure size 640x480 with 1 Axes>"
      ]
     },
     "metadata": {},
     "output_type": "display_data"
    }
   ],
   "source": [
    "unique_labels, label_counts = np.unique(y_train, return_counts=True)\n",
    "plt.bar(unique_labels, label_counts)\n",
    "print(unique_labels, label_counts)"
   ]
  },
  {
   "attachments": {},
   "cell_type": "markdown",
   "metadata": {},
   "source": [
    "##### Merge all results"
   ]
  },
  {
   "cell_type": "code",
   "execution_count": 70,
   "metadata": {},
   "outputs": [
    {
     "data": {
      "text/plain": [
       "Text(0.5, 1.0, 'F1 scores per label per model')"
      ]
     },
     "execution_count": 70,
     "metadata": {},
     "output_type": "execute_result"
    },
    {
     "data": {
      "image/png": "[encoded data removed]",
      "text/plain": [
       "<Figure size 640x480 with 1 Axes>"
      ]
     },
     "metadata": {},
     "output_type": "display_data"
    }
   ],
   "source": [
    "all_results = pd.concat([model1_results,model2_results,model3_results])\n",
    "\n",
    "import seaborn as sns\n",
    "\n",
    "sns.barplot(all_results, x= \"Label\", y=\"F1Score\", hue=\"Model\")\n",
    "plt.title(\"F1 scores per label per model\")"
   ]
  },
  {
   "attachments": {},
   "cell_type": "markdown",
   "metadata": {},
   "source": [
    "### Oversampling"
   ]
  },
  {
   "cell_type": "code",
   "execution_count": 6,
   "metadata": {},
   "outputs": [
    {
     "name": "stdout",
     "output_type": "stream",
     "text": [
      "(29939, 57157) (221188, 57157)\n"
     ]
    }
   ],
   "source": [
    "from imblearn.over_sampling import SMOTE\n",
    "smote = SMOTE()\n",
    "\n",
    "from sklearn.model_selection import train_test_split\n",
    "X_train, X_test, y_train, y_test = train_test_split(X, y, test_size=0.2, random_state=42, stratify=y)\n",
    "X_train, y_train = smote.fit_resample(X_train, y_train)\n",
    "\n",
    "print(X.shape, X_train.shape)\n"
   ]
  },
  {
   "cell_type": "code",
   "execution_count": 7,
   "metadata": {},
   "outputs": [
    {
     "name": "stdout",
     "output_type": "stream",
     "text": [
      "Original (array([2007, 2008, 2009, 2010, 2011, 2012, 2013, 2014, 2015, 2016, 2017],\n",
      "      dtype=int64), array([25135,  3433,   728,   263,   153,    79,    45,    30,    22,\n",
      "          30,    21], dtype=int64))\n",
      "Resampled train (array([2007, 2008, 2009, 2010, 2011, 2012, 2013, 2014, 2015, 2016, 2017],\n",
      "      dtype=int64), array([20108, 20108, 20108, 20108, 20108, 20108, 20108, 20108, 20108,\n",
      "       20108, 20108], dtype=int64))\n",
      "Test (array([2007, 2008, 2009, 2010, 2011, 2012, 2013, 2014, 2015, 2016, 2017],\n",
      "      dtype=int64), array([5027,  687,  146,   53,   30,   16,    9,    6,    4,    6,    4],\n",
      "      dtype=int64))\n"
     ]
    }
   ],
   "source": [
    "print(\"Original\", np.unique(y, return_counts=True))\n",
    "print(\"Resampled train\", np.unique(y_train, return_counts=True))\n",
    "print(\"Test\", np.unique(y_test, return_counts=True))"
   ]
  },
  {
   "attachments": {},
   "cell_type": "markdown",
   "metadata": {},
   "source": [
    "##### KnnRegression"
   ]
  },
  {
   "cell_type": "code",
   "execution_count": 8,
   "metadata": {},
   "outputs": [
    {
     "data": {
      "text/html": [
       "<div>\n",
       "<style scoped>\n",
       "    .dataframe tbody tr th:only-of-type {\n",
       "        vertical-align: middle;\n",
       "    }\n",
       "\n",
       "    .dataframe tbody tr th {\n",
       "        vertical-align: top;\n",
       "    }\n",
       "\n",
       "    .dataframe thead th {\n",
       "        text-align: right;\n",
       "    }\n",
       "</style>\n",
       "<table border=\"1\" class=\"dataframe\">\n",
       "  <thead>\n",
       "    <tr style=\"text-align: right;\">\n",
       "      <th></th>\n",
       "      <th>2007</th>\n",
       "      <th>2008</th>\n",
       "      <th>2009</th>\n",
       "      <th>2010</th>\n",
       "      <th>2011</th>\n",
       "      <th>2012</th>\n",
       "      <th>2013</th>\n",
       "      <th>2014</th>\n",
       "      <th>2015</th>\n",
       "      <th>2016</th>\n",
       "      <th>2017</th>\n",
       "      <th>accuracy</th>\n",
       "      <th>macro avg</th>\n",
       "      <th>weighted avg</th>\n",
       "    </tr>\n",
       "  </thead>\n",
       "  <tbody>\n",
       "    <tr>\n",
       "      <th>precision</th>\n",
       "      <td>0.944444</td>\n",
       "      <td>0.128018</td>\n",
       "      <td>0.031072</td>\n",
       "      <td>0.018945</td>\n",
       "      <td>0.002660</td>\n",
       "      <td>0.016216</td>\n",
       "      <td>0.011111</td>\n",
       "      <td>0.0</td>\n",
       "      <td>0.015873</td>\n",
       "      <td>0.032258</td>\n",
       "      <td>0.0</td>\n",
       "      <td>0.081496</td>\n",
       "      <td>0.109145</td>\n",
       "      <td>0.808602</td>\n",
       "    </tr>\n",
       "    <tr>\n",
       "      <th>recall</th>\n",
       "      <td>0.013527</td>\n",
       "      <td>0.509461</td>\n",
       "      <td>0.335616</td>\n",
       "      <td>0.264151</td>\n",
       "      <td>0.033333</td>\n",
       "      <td>0.187500</td>\n",
       "      <td>0.111111</td>\n",
       "      <td>0.0</td>\n",
       "      <td>0.250000</td>\n",
       "      <td>0.166667</td>\n",
       "      <td>0.0</td>\n",
       "      <td>0.081496</td>\n",
       "      <td>0.170124</td>\n",
       "      <td>0.081496</td>\n",
       "    </tr>\n",
       "    <tr>\n",
       "      <th>f1-score</th>\n",
       "      <td>0.026672</td>\n",
       "      <td>0.204619</td>\n",
       "      <td>0.056878</td>\n",
       "      <td>0.035354</td>\n",
       "      <td>0.004926</td>\n",
       "      <td>0.029851</td>\n",
       "      <td>0.020202</td>\n",
       "      <td>0.0</td>\n",
       "      <td>0.029851</td>\n",
       "      <td>0.054054</td>\n",
       "      <td>0.0</td>\n",
       "      <td>0.081496</td>\n",
       "      <td>0.042037</td>\n",
       "      <td>0.047776</td>\n",
       "    </tr>\n",
       "    <tr>\n",
       "      <th>support</th>\n",
       "      <td>5027.000000</td>\n",
       "      <td>687.000000</td>\n",
       "      <td>146.000000</td>\n",
       "      <td>53.000000</td>\n",
       "      <td>30.000000</td>\n",
       "      <td>16.000000</td>\n",
       "      <td>9.000000</td>\n",
       "      <td>6.0</td>\n",
       "      <td>4.000000</td>\n",
       "      <td>6.000000</td>\n",
       "      <td>4.0</td>\n",
       "      <td>0.081496</td>\n",
       "      <td>5988.000000</td>\n",
       "      <td>5988.000000</td>\n",
       "    </tr>\n",
       "  </tbody>\n",
       "</table>\n",
       "</div>"
      ],
      "text/plain": [
       "                  2007        2008        2009       2010       2011   \n",
       "precision     0.944444    0.128018    0.031072   0.018945   0.002660  \\\n",
       "recall        0.013527    0.509461    0.335616   0.264151   0.033333   \n",
       "f1-score      0.026672    0.204619    0.056878   0.035354   0.004926   \n",
       "support    5027.000000  687.000000  146.000000  53.000000  30.000000   \n",
       "\n",
       "                2012      2013  2014      2015      2016  2017  accuracy   \n",
       "precision   0.016216  0.011111   0.0  0.015873  0.032258   0.0  0.081496  \\\n",
       "recall      0.187500  0.111111   0.0  0.250000  0.166667   0.0  0.081496   \n",
       "f1-score    0.029851  0.020202   0.0  0.029851  0.054054   0.0  0.081496   \n",
       "support    16.000000  9.000000   6.0  4.000000  6.000000   4.0  0.081496   \n",
       "\n",
       "             macro avg  weighted avg  \n",
       "precision     0.109145      0.808602  \n",
       "recall        0.170124      0.081496  \n",
       "f1-score      0.042037      0.047776  \n",
       "support    5988.000000   5988.000000  "
      ]
     },
     "metadata": {},
     "output_type": "display_data"
    },
    {
     "data": {
      "text/html": [
       "<div>\n",
       "<style scoped>\n",
       "    .dataframe tbody tr th:only-of-type {\n",
       "        vertical-align: middle;\n",
       "    }\n",
       "\n",
       "    .dataframe tbody tr th {\n",
       "        vertical-align: top;\n",
       "    }\n",
       "\n",
       "    .dataframe thead th {\n",
       "        text-align: right;\n",
       "    }\n",
       "</style>\n",
       "<table border=\"1\" class=\"dataframe\">\n",
       "  <thead>\n",
       "    <tr style=\"text-align: right;\">\n",
       "      <th></th>\n",
       "      <th>F1Score</th>\n",
       "      <th>Label</th>\n",
       "      <th>Model</th>\n",
       "    </tr>\n",
       "  </thead>\n",
       "  <tbody>\n",
       "    <tr>\n",
       "      <th>2007</th>\n",
       "      <td>0.026672</td>\n",
       "      <td>2007</td>\n",
       "      <td>KnnRegression</td>\n",
       "    </tr>\n",
       "    <tr>\n",
       "      <th>2008</th>\n",
       "      <td>0.204619</td>\n",
       "      <td>2008</td>\n",
       "      <td>KnnRegression</td>\n",
       "    </tr>\n",
       "    <tr>\n",
       "      <th>2009</th>\n",
       "      <td>0.056878</td>\n",
       "      <td>2009</td>\n",
       "      <td>KnnRegression</td>\n",
       "    </tr>\n",
       "    <tr>\n",
       "      <th>2010</th>\n",
       "      <td>0.035354</td>\n",
       "      <td>2010</td>\n",
       "      <td>KnnRegression</td>\n",
       "    </tr>\n",
       "    <tr>\n",
       "      <th>2011</th>\n",
       "      <td>0.004926</td>\n",
       "      <td>2011</td>\n",
       "      <td>KnnRegression</td>\n",
       "    </tr>\n",
       "    <tr>\n",
       "      <th>2012</th>\n",
       "      <td>0.029851</td>\n",
       "      <td>2012</td>\n",
       "      <td>KnnRegression</td>\n",
       "    </tr>\n",
       "    <tr>\n",
       "      <th>2013</th>\n",
       "      <td>0.020202</td>\n",
       "      <td>2013</td>\n",
       "      <td>KnnRegression</td>\n",
       "    </tr>\n",
       "    <tr>\n",
       "      <th>2014</th>\n",
       "      <td>0.000000</td>\n",
       "      <td>2014</td>\n",
       "      <td>KnnRegression</td>\n",
       "    </tr>\n",
       "    <tr>\n",
       "      <th>2015</th>\n",
       "      <td>0.029851</td>\n",
       "      <td>2015</td>\n",
       "      <td>KnnRegression</td>\n",
       "    </tr>\n",
       "    <tr>\n",
       "      <th>2016</th>\n",
       "      <td>0.054054</td>\n",
       "      <td>2016</td>\n",
       "      <td>KnnRegression</td>\n",
       "    </tr>\n",
       "    <tr>\n",
       "      <th>2017</th>\n",
       "      <td>0.000000</td>\n",
       "      <td>2017</td>\n",
       "      <td>KnnRegression</td>\n",
       "    </tr>\n",
       "  </tbody>\n",
       "</table>\n",
       "</div>"
      ],
      "text/plain": [
       "       F1Score Label          Model\n",
       "2007  0.026672  2007  KnnRegression\n",
       "2008  0.204619  2008  KnnRegression\n",
       "2009  0.056878  2009  KnnRegression\n",
       "2010  0.035354  2010  KnnRegression\n",
       "2011  0.004926  2011  KnnRegression\n",
       "2012  0.029851  2012  KnnRegression\n",
       "2013  0.020202  2013  KnnRegression\n",
       "2014  0.000000  2014  KnnRegression\n",
       "2015  0.029851  2015  KnnRegression\n",
       "2016  0.054054  2016  KnnRegression\n",
       "2017  0.000000  2017  KnnRegression"
      ]
     },
     "execution_count": 8,
     "metadata": {},
     "output_type": "execute_result"
    }
   ],
   "source": [
    "from sklearn.neighbors import KNeighborsRegressor\n",
    "from sklearn.metrics import accuracy_score, precision_score, f1_score, classification_report\n",
    "\n",
    "ridge_model = KNeighborsRegressor()\n",
    "ridge_model.fit(X_train, y_train)\n",
    "y_pred = ridge_model.predict(X_test)\n",
    "\n",
    "knn_regression_results = pd.DataFrame(classification_report(y_test, np.round(y_pred), zero_division=0, output_dict=True))\n",
    "display(knn_regression_results)\n",
    "\n",
    "model4_results = pd.DataFrame({\"F1Score\":knn_regression_results.loc[\"f1-score\",\"2007\":\"2017\"], \"Label\":knn_regression_results.columns[:-3],\"Model\":[\"KnnRegression\"]*11})\n",
    "model4_results"
   ]
  },
  {
   "attachments": {},
   "cell_type": "markdown",
   "metadata": {},
   "source": [
    "##### Decision Tree Classifier"
   ]
  },
  {
   "cell_type": "code",
   "execution_count": 9,
   "metadata": {},
   "outputs": [
    {
     "data": {
      "text/html": [
       "<div>\n",
       "<style scoped>\n",
       "    .dataframe tbody tr th:only-of-type {\n",
       "        vertical-align: middle;\n",
       "    }\n",
       "\n",
       "    .dataframe tbody tr th {\n",
       "        vertical-align: top;\n",
       "    }\n",
       "\n",
       "    .dataframe thead th {\n",
       "        text-align: right;\n",
       "    }\n",
       "</style>\n",
       "<table border=\"1\" class=\"dataframe\">\n",
       "  <thead>\n",
       "    <tr style=\"text-align: right;\">\n",
       "      <th></th>\n",
       "      <th>2007</th>\n",
       "      <th>2008</th>\n",
       "      <th>2009</th>\n",
       "      <th>2010</th>\n",
       "      <th>2011</th>\n",
       "      <th>2012</th>\n",
       "      <th>2013</th>\n",
       "      <th>2014</th>\n",
       "      <th>2015</th>\n",
       "      <th>2016</th>\n",
       "      <th>2017</th>\n",
       "      <th>accuracy</th>\n",
       "      <th>macro avg</th>\n",
       "      <th>weighted avg</th>\n",
       "    </tr>\n",
       "  </thead>\n",
       "  <tbody>\n",
       "    <tr>\n",
       "      <th>precision</th>\n",
       "      <td>0.850954</td>\n",
       "      <td>0.135307</td>\n",
       "      <td>0.060465</td>\n",
       "      <td>0.024096</td>\n",
       "      <td>0.021739</td>\n",
       "      <td>0.0</td>\n",
       "      <td>0.0</td>\n",
       "      <td>0.0</td>\n",
       "      <td>0.0</td>\n",
       "      <td>0.0</td>\n",
       "      <td>0.0</td>\n",
       "      <td>0.686707</td>\n",
       "      <td>0.099324</td>\n",
       "      <td>0.731707</td>\n",
       "    </tr>\n",
       "    <tr>\n",
       "      <th>recall</th>\n",
       "      <td>0.789338</td>\n",
       "      <td>0.186317</td>\n",
       "      <td>0.089041</td>\n",
       "      <td>0.037736</td>\n",
       "      <td>0.033333</td>\n",
       "      <td>0.0</td>\n",
       "      <td>0.0</td>\n",
       "      <td>0.0</td>\n",
       "      <td>0.0</td>\n",
       "      <td>0.0</td>\n",
       "      <td>0.0</td>\n",
       "      <td>0.686707</td>\n",
       "      <td>0.103251</td>\n",
       "      <td>0.686707</td>\n",
       "    </tr>\n",
       "    <tr>\n",
       "      <th>f1-score</th>\n",
       "      <td>0.818989</td>\n",
       "      <td>0.156767</td>\n",
       "      <td>0.072022</td>\n",
       "      <td>0.029412</td>\n",
       "      <td>0.026316</td>\n",
       "      <td>0.0</td>\n",
       "      <td>0.0</td>\n",
       "      <td>0.0</td>\n",
       "      <td>0.0</td>\n",
       "      <td>0.0</td>\n",
       "      <td>0.0</td>\n",
       "      <td>0.686707</td>\n",
       "      <td>0.100319</td>\n",
       "      <td>0.707685</td>\n",
       "    </tr>\n",
       "    <tr>\n",
       "      <th>support</th>\n",
       "      <td>5027.000000</td>\n",
       "      <td>687.000000</td>\n",
       "      <td>146.000000</td>\n",
       "      <td>53.000000</td>\n",
       "      <td>30.000000</td>\n",
       "      <td>16.0</td>\n",
       "      <td>9.0</td>\n",
       "      <td>6.0</td>\n",
       "      <td>4.0</td>\n",
       "      <td>6.0</td>\n",
       "      <td>4.0</td>\n",
       "      <td>0.686707</td>\n",
       "      <td>5988.000000</td>\n",
       "      <td>5988.000000</td>\n",
       "    </tr>\n",
       "  </tbody>\n",
       "</table>\n",
       "</div>"
      ],
      "text/plain": [
       "                  2007        2008        2009       2010       2011  2012   \n",
       "precision     0.850954    0.135307    0.060465   0.024096   0.021739   0.0  \\\n",
       "recall        0.789338    0.186317    0.089041   0.037736   0.033333   0.0   \n",
       "f1-score      0.818989    0.156767    0.072022   0.029412   0.026316   0.0   \n",
       "support    5027.000000  687.000000  146.000000  53.000000  30.000000  16.0   \n",
       "\n",
       "           2013  2014  2015  2016  2017  accuracy    macro avg  weighted avg  \n",
       "precision   0.0   0.0   0.0   0.0   0.0  0.686707     0.099324      0.731707  \n",
       "recall      0.0   0.0   0.0   0.0   0.0  0.686707     0.103251      0.686707  \n",
       "f1-score    0.0   0.0   0.0   0.0   0.0  0.686707     0.100319      0.707685  \n",
       "support     9.0   6.0   4.0   6.0   4.0  0.686707  5988.000000   5988.000000  "
      ]
     },
     "metadata": {},
     "output_type": "display_data"
    },
    {
     "data": {
      "text/html": [
       "<div>\n",
       "<style scoped>\n",
       "    .dataframe tbody tr th:only-of-type {\n",
       "        vertical-align: middle;\n",
       "    }\n",
       "\n",
       "    .dataframe tbody tr th {\n",
       "        vertical-align: top;\n",
       "    }\n",
       "\n",
       "    .dataframe thead th {\n",
       "        text-align: right;\n",
       "    }\n",
       "</style>\n",
       "<table border=\"1\" class=\"dataframe\">\n",
       "  <thead>\n",
       "    <tr style=\"text-align: right;\">\n",
       "      <th></th>\n",
       "      <th>F1Score</th>\n",
       "      <th>Label</th>\n",
       "      <th>Model</th>\n",
       "    </tr>\n",
       "  </thead>\n",
       "  <tbody>\n",
       "    <tr>\n",
       "      <th>2007</th>\n",
       "      <td>0.818989</td>\n",
       "      <td>2007</td>\n",
       "      <td>TreeClassifier</td>\n",
       "    </tr>\n",
       "    <tr>\n",
       "      <th>2008</th>\n",
       "      <td>0.156767</td>\n",
       "      <td>2008</td>\n",
       "      <td>TreeClassifier</td>\n",
       "    </tr>\n",
       "    <tr>\n",
       "      <th>2009</th>\n",
       "      <td>0.072022</td>\n",
       "      <td>2009</td>\n",
       "      <td>TreeClassifier</td>\n",
       "    </tr>\n",
       "    <tr>\n",
       "      <th>2010</th>\n",
       "      <td>0.029412</td>\n",
       "      <td>2010</td>\n",
       "      <td>TreeClassifier</td>\n",
       "    </tr>\n",
       "    <tr>\n",
       "      <th>2011</th>\n",
       "      <td>0.026316</td>\n",
       "      <td>2011</td>\n",
       "      <td>TreeClassifier</td>\n",
       "    </tr>\n",
       "    <tr>\n",
       "      <th>2012</th>\n",
       "      <td>0.000000</td>\n",
       "      <td>2012</td>\n",
       "      <td>TreeClassifier</td>\n",
       "    </tr>\n",
       "    <tr>\n",
       "      <th>2013</th>\n",
       "      <td>0.000000</td>\n",
       "      <td>2013</td>\n",
       "      <td>TreeClassifier</td>\n",
       "    </tr>\n",
       "    <tr>\n",
       "      <th>2014</th>\n",
       "      <td>0.000000</td>\n",
       "      <td>2014</td>\n",
       "      <td>TreeClassifier</td>\n",
       "    </tr>\n",
       "    <tr>\n",
       "      <th>2015</th>\n",
       "      <td>0.000000</td>\n",
       "      <td>2015</td>\n",
       "      <td>TreeClassifier</td>\n",
       "    </tr>\n",
       "    <tr>\n",
       "      <th>2016</th>\n",
       "      <td>0.000000</td>\n",
       "      <td>2016</td>\n",
       "      <td>TreeClassifier</td>\n",
       "    </tr>\n",
       "    <tr>\n",
       "      <th>2017</th>\n",
       "      <td>0.000000</td>\n",
       "      <td>2017</td>\n",
       "      <td>TreeClassifier</td>\n",
       "    </tr>\n",
       "  </tbody>\n",
       "</table>\n",
       "</div>"
      ],
      "text/plain": [
       "       F1Score Label           Model\n",
       "2007  0.818989  2007  TreeClassifier\n",
       "2008  0.156767  2008  TreeClassifier\n",
       "2009  0.072022  2009  TreeClassifier\n",
       "2010  0.029412  2010  TreeClassifier\n",
       "2011  0.026316  2011  TreeClassifier\n",
       "2012  0.000000  2012  TreeClassifier\n",
       "2013  0.000000  2013  TreeClassifier\n",
       "2014  0.000000  2014  TreeClassifier\n",
       "2015  0.000000  2015  TreeClassifier\n",
       "2016  0.000000  2016  TreeClassifier\n",
       "2017  0.000000  2017  TreeClassifier"
      ]
     },
     "execution_count": 9,
     "metadata": {},
     "output_type": "execute_result"
    }
   ],
   "source": [
    "from sklearn.tree import DecisionTreeClassifier\n",
    "\n",
    "ridge_model = DecisionTreeClassifier()\n",
    "ridge_model.fit(X_train, y_train)\n",
    "y_pred = ridge_model.predict(X_test)\n",
    "\n",
    "decision_tree_classifier_results = pd.DataFrame(classification_report(y_test, np.round(y_pred), zero_division=0, output_dict=True))\n",
    "display(decision_tree_classifier_results)\n",
    "\n",
    "model5_results = pd.DataFrame({\"F1Score\":decision_tree_classifier_results.loc[\"f1-score\",\"2007\":\"2017\"], \"Label\":decision_tree_classifier_results.columns[:-3],\"Model\":[\"TreeClassifier\"]*11})\n",
    "model5_results"
   ]
  },
  {
   "attachments": {},
   "cell_type": "markdown",
   "metadata": {},
   "source": [
    "##### KnnClassifier"
   ]
  },
  {
   "cell_type": "code",
   "execution_count": 10,
   "metadata": {},
   "outputs": [
    {
     "data": {
      "text/html": [
       "<div>\n",
       "<style scoped>\n",
       "    .dataframe tbody tr th:only-of-type {\n",
       "        vertical-align: middle;\n",
       "    }\n",
       "\n",
       "    .dataframe tbody tr th {\n",
       "        vertical-align: top;\n",
       "    }\n",
       "\n",
       "    .dataframe thead th {\n",
       "        text-align: right;\n",
       "    }\n",
       "</style>\n",
       "<table border=\"1\" class=\"dataframe\">\n",
       "  <thead>\n",
       "    <tr style=\"text-align: right;\">\n",
       "      <th></th>\n",
       "      <th>2007</th>\n",
       "      <th>2008</th>\n",
       "      <th>2009</th>\n",
       "      <th>2010</th>\n",
       "      <th>2011</th>\n",
       "      <th>2012</th>\n",
       "      <th>2013</th>\n",
       "      <th>2014</th>\n",
       "      <th>2015</th>\n",
       "      <th>2016</th>\n",
       "      <th>2017</th>\n",
       "      <th>accuracy</th>\n",
       "      <th>macro avg</th>\n",
       "      <th>weighted avg</th>\n",
       "    </tr>\n",
       "  </thead>\n",
       "  <tbody>\n",
       "    <tr>\n",
       "      <th>precision</th>\n",
       "      <td>0.874725</td>\n",
       "      <td>0.123529</td>\n",
       "      <td>0.039078</td>\n",
       "      <td>0.019560</td>\n",
       "      <td>0.003861</td>\n",
       "      <td>0.015504</td>\n",
       "      <td>0.018868</td>\n",
       "      <td>0.0</td>\n",
       "      <td>0.018868</td>\n",
       "      <td>0.033333</td>\n",
       "      <td>0.0</td>\n",
       "      <td>0.20491</td>\n",
       "      <td>0.104302</td>\n",
       "      <td>0.749776</td>\n",
       "    </tr>\n",
       "    <tr>\n",
       "      <th>recall</th>\n",
       "      <td>0.158345</td>\n",
       "      <td>0.550218</td>\n",
       "      <td>0.267123</td>\n",
       "      <td>0.150943</td>\n",
       "      <td>0.033333</td>\n",
       "      <td>0.125000</td>\n",
       "      <td>0.111111</td>\n",
       "      <td>0.0</td>\n",
       "      <td>0.250000</td>\n",
       "      <td>0.166667</td>\n",
       "      <td>0.0</td>\n",
       "      <td>0.20491</td>\n",
       "      <td>0.164795</td>\n",
       "      <td>0.204910</td>\n",
       "    </tr>\n",
       "    <tr>\n",
       "      <th>f1-score</th>\n",
       "      <td>0.268149</td>\n",
       "      <td>0.201761</td>\n",
       "      <td>0.068182</td>\n",
       "      <td>0.034632</td>\n",
       "      <td>0.006920</td>\n",
       "      <td>0.027586</td>\n",
       "      <td>0.032258</td>\n",
       "      <td>0.0</td>\n",
       "      <td>0.035088</td>\n",
       "      <td>0.055556</td>\n",
       "      <td>0.0</td>\n",
       "      <td>0.20491</td>\n",
       "      <td>0.066376</td>\n",
       "      <td>0.250467</td>\n",
       "    </tr>\n",
       "    <tr>\n",
       "      <th>support</th>\n",
       "      <td>5027.000000</td>\n",
       "      <td>687.000000</td>\n",
       "      <td>146.000000</td>\n",
       "      <td>53.000000</td>\n",
       "      <td>30.000000</td>\n",
       "      <td>16.000000</td>\n",
       "      <td>9.000000</td>\n",
       "      <td>6.0</td>\n",
       "      <td>4.000000</td>\n",
       "      <td>6.000000</td>\n",
       "      <td>4.0</td>\n",
       "      <td>0.20491</td>\n",
       "      <td>5988.000000</td>\n",
       "      <td>5988.000000</td>\n",
       "    </tr>\n",
       "  </tbody>\n",
       "</table>\n",
       "</div>"
      ],
      "text/plain": [
       "                  2007        2008        2009       2010       2011   \n",
       "precision     0.874725    0.123529    0.039078   0.019560   0.003861  \\\n",
       "recall        0.158345    0.550218    0.267123   0.150943   0.033333   \n",
       "f1-score      0.268149    0.201761    0.068182   0.034632   0.006920   \n",
       "support    5027.000000  687.000000  146.000000  53.000000  30.000000   \n",
       "\n",
       "                2012      2013  2014      2015      2016  2017  accuracy   \n",
       "precision   0.015504  0.018868   0.0  0.018868  0.033333   0.0   0.20491  \\\n",
       "recall      0.125000  0.111111   0.0  0.250000  0.166667   0.0   0.20491   \n",
       "f1-score    0.027586  0.032258   0.0  0.035088  0.055556   0.0   0.20491   \n",
       "support    16.000000  9.000000   6.0  4.000000  6.000000   4.0   0.20491   \n",
       "\n",
       "             macro avg  weighted avg  \n",
       "precision     0.104302      0.749776  \n",
       "recall        0.164795      0.204910  \n",
       "f1-score      0.066376      0.250467  \n",
       "support    5988.000000   5988.000000  "
      ]
     },
     "metadata": {},
     "output_type": "display_data"
    },
    {
     "data": {
      "text/html": [
       "<div>\n",
       "<style scoped>\n",
       "    .dataframe tbody tr th:only-of-type {\n",
       "        vertical-align: middle;\n",
       "    }\n",
       "\n",
       "    .dataframe tbody tr th {\n",
       "        vertical-align: top;\n",
       "    }\n",
       "\n",
       "    .dataframe thead th {\n",
       "        text-align: right;\n",
       "    }\n",
       "</style>\n",
       "<table border=\"1\" class=\"dataframe\">\n",
       "  <thead>\n",
       "    <tr style=\"text-align: right;\">\n",
       "      <th></th>\n",
       "      <th>F1Score</th>\n",
       "      <th>Label</th>\n",
       "      <th>Model</th>\n",
       "    </tr>\n",
       "  </thead>\n",
       "  <tbody>\n",
       "    <tr>\n",
       "      <th>2007</th>\n",
       "      <td>0.268149</td>\n",
       "      <td>2007</td>\n",
       "      <td>KnnClassifier</td>\n",
       "    </tr>\n",
       "    <tr>\n",
       "      <th>2008</th>\n",
       "      <td>0.201761</td>\n",
       "      <td>2008</td>\n",
       "      <td>KnnClassifier</td>\n",
       "    </tr>\n",
       "    <tr>\n",
       "      <th>2009</th>\n",
       "      <td>0.068182</td>\n",
       "      <td>2009</td>\n",
       "      <td>KnnClassifier</td>\n",
       "    </tr>\n",
       "    <tr>\n",
       "      <th>2010</th>\n",
       "      <td>0.034632</td>\n",
       "      <td>2010</td>\n",
       "      <td>KnnClassifier</td>\n",
       "    </tr>\n",
       "    <tr>\n",
       "      <th>2011</th>\n",
       "      <td>0.006920</td>\n",
       "      <td>2011</td>\n",
       "      <td>KnnClassifier</td>\n",
       "    </tr>\n",
       "    <tr>\n",
       "      <th>2012</th>\n",
       "      <td>0.027586</td>\n",
       "      <td>2012</td>\n",
       "      <td>KnnClassifier</td>\n",
       "    </tr>\n",
       "    <tr>\n",
       "      <th>2013</th>\n",
       "      <td>0.032258</td>\n",
       "      <td>2013</td>\n",
       "      <td>KnnClassifier</td>\n",
       "    </tr>\n",
       "    <tr>\n",
       "      <th>2014</th>\n",
       "      <td>0.000000</td>\n",
       "      <td>2014</td>\n",
       "      <td>KnnClassifier</td>\n",
       "    </tr>\n",
       "    <tr>\n",
       "      <th>2015</th>\n",
       "      <td>0.035088</td>\n",
       "      <td>2015</td>\n",
       "      <td>KnnClassifier</td>\n",
       "    </tr>\n",
       "    <tr>\n",
       "      <th>2016</th>\n",
       "      <td>0.055556</td>\n",
       "      <td>2016</td>\n",
       "      <td>KnnClassifier</td>\n",
       "    </tr>\n",
       "    <tr>\n",
       "      <th>2017</th>\n",
       "      <td>0.000000</td>\n",
       "      <td>2017</td>\n",
       "      <td>KnnClassifier</td>\n",
       "    </tr>\n",
       "  </tbody>\n",
       "</table>\n",
       "</div>"
      ],
      "text/plain": [
       "       F1Score Label          Model\n",
       "2007  0.268149  2007  KnnClassifier\n",
       "2008  0.201761  2008  KnnClassifier\n",
       "2009  0.068182  2009  KnnClassifier\n",
       "2010  0.034632  2010  KnnClassifier\n",
       "2011  0.006920  2011  KnnClassifier\n",
       "2012  0.027586  2012  KnnClassifier\n",
       "2013  0.032258  2013  KnnClassifier\n",
       "2014  0.000000  2014  KnnClassifier\n",
       "2015  0.035088  2015  KnnClassifier\n",
       "2016  0.055556  2016  KnnClassifier\n",
       "2017  0.000000  2017  KnnClassifier"
      ]
     },
     "execution_count": 10,
     "metadata": {},
     "output_type": "execute_result"
    }
   ],
   "source": [
    "from sklearn.neighbors import KNeighborsClassifier\n",
    "\n",
    "ridge_model = KNeighborsClassifier(n_neighbors=1)\n",
    "ridge_model.fit(X_train, y_train)\n",
    "y_pred = ridge_model.predict(X_test)\n",
    "\n",
    "knn_classifier_results = pd.DataFrame(classification_report(y_test, np.round(y_pred), zero_division=0, output_dict=True))\n",
    "display(knn_classifier_results)\n",
    "\n",
    "model6_results = pd.DataFrame({\"F1Score\":knn_classifier_results.loc[\"f1-score\",\"2007\":\"2017\"], \"Label\":knn_classifier_results.columns[:-3],\"Model\":[\"KnnClassifier\"]*11})\n",
    "model6_results\n",
    "\n"
   ]
  },
  {
   "cell_type": "code",
   "execution_count": 12,
   "metadata": {},
   "outputs": [
    {
     "data": {
      "text/plain": [
       "Text(0.5, 1.0, 'F1 scores per label per model')"
      ]
     },
     "execution_count": 12,
     "metadata": {},
     "output_type": "execute_result"
    },
    {
     "data": {
      "image/png": "[encoded data removed]",
      "text/plain": [
       "<Figure size 640x480 with 1 Axes>"
      ]
     },
     "metadata": {},
     "output_type": "display_data"
    }
   ],
   "source": [
    "import seaborn as sns\n",
    "\n",
    "all_results = pd.concat([model4_results, model5_results, model6_results])\n",
    "\n",
    "sns.barplot(all_results, x= \"Label\", y=\"F1Score\", hue=\"Model\")\n",
    "plt.title(\"F1 scores per label per model\")"
   ]
  }
 ],
 "metadata": {
  "kernelspec": {
   "display_name": "Python 3",
   "language": "python",
   "name": "python3"
  },
  "language_info": {
   "codemirror_mode": {
    "name": "ipython",
    "version": 3
   },
   "file_extension": ".py",
   "mimetype": "text/x-python",
   "name": "python",
   "nbconvert_exporter": "python",
   "pygments_lexer": "ipython3",
   "version": "3.10.7"
  },
  "orig_nbformat": 4
 },
 "nbformat": 4,
 "nbformat_minor": 2
}
