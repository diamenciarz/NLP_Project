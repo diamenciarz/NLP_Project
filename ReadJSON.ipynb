{
 "cells": [
  {
   "cell_type": "code",
   "execution_count": 1,
   "metadata": {},
   "outputs": [],
   "source": [
    "import matplotlib.pyplot as plt\n",
    "import numpy as np\n",
    "import pandas as pd\n",
    "import json\n",
    "import re\n",
    "from src.DocumentReader import read_n_documents\n",
    "from src.shared import process"
   ]
  },
  {
   "cell_type": "code",
   "execution_count": 2,
   "metadata": {},
   "outputs": [],
   "source": [
    "# path = 'data//arxiv-metadata-oai-snapshot.json'\n",
    "# with open(path, 'r') as file:\n",
    "#     records = pd.DataFrame()\n",
    "#     i = 0\n",
    "#     for line in file:\n",
    "#         i+=1\n",
    "# print(i)"
   ]
  },
  {
   "cell_type": "code",
   "execution_count": 3,
   "metadata": {},
   "outputs": [
    {
     "data": {
      "text/html": [
       "<div>\n",
       "<style scoped>\n",
       "    .dataframe tbody tr th:only-of-type {\n",
       "        vertical-align: middle;\n",
       "    }\n",
       "\n",
       "    .dataframe tbody tr th {\n",
       "        vertical-align: top;\n",
       "    }\n",
       "\n",
       "    .dataframe thead th {\n",
       "        text-align: right;\n",
       "    }\n",
       "</style>\n",
       "<table border=\"1\" class=\"dataframe\">\n",
       "  <thead>\n",
       "    <tr style=\"text-align: right;\">\n",
       "      <th></th>\n",
       "      <th>title</th>\n",
       "      <th>version</th>\n",
       "      <th>abstract</th>\n",
       "      <th>authors_parsed</th>\n",
       "      <th>category_names</th>\n",
       "      <th>category_groups</th>\n",
       "    </tr>\n",
       "  </thead>\n",
       "  <tbody>\n",
       "    <tr>\n",
       "      <th>0</th>\n",
       "      <td>Calculation of prompt diphoton production cros...</td>\n",
       "      <td>2007</td>\n",
       "      <td>A fully differential calculation in perturba...</td>\n",
       "      <td>[[Balázs, C., ], [Berger, E. L., ], [Nadolsky,...</td>\n",
       "      <td>[hep-ph]</td>\n",
       "      <td>[hep-ph]</td>\n",
       "    </tr>\n",
       "    <tr>\n",
       "      <th>1</th>\n",
       "      <td>Sparsity-certifying Graph Decompositions</td>\n",
       "      <td>2008</td>\n",
       "      <td>We describe a new algorithm, the $(k,\\ell)$-...</td>\n",
       "      <td>[[Streinu, Ileana, ], [Theran, Louis, ]]</td>\n",
       "      <td>[math.CO, cs.CG]</td>\n",
       "      <td>[math, cs]</td>\n",
       "    </tr>\n",
       "    <tr>\n",
       "      <th>2</th>\n",
       "      <td>The evolution of the Earth-Moon system based o...</td>\n",
       "      <td>2008</td>\n",
       "      <td>The evolution of Earth-Moon system is descri...</td>\n",
       "      <td>[[Pan, Hongjun, ]]</td>\n",
       "      <td>[physics.gen-ph]</td>\n",
       "      <td>[physics]</td>\n",
       "    </tr>\n",
       "    <tr>\n",
       "      <th>3</th>\n",
       "      <td>A determinant of Stirling cycle numbers counts...</td>\n",
       "      <td>2007</td>\n",
       "      <td>We show that a determinant of Stirling cycle...</td>\n",
       "      <td>[[Callan, David, ]]</td>\n",
       "      <td>[math.CO]</td>\n",
       "      <td>[math]</td>\n",
       "    </tr>\n",
       "    <tr>\n",
       "      <th>4</th>\n",
       "      <td>From dyadic $\\Lambda_{\\alpha}$ to $\\Lambda_{\\a...</td>\n",
       "      <td>2007</td>\n",
       "      <td>In this paper we show how to compute the $\\L...</td>\n",
       "      <td>[[Abu-Shammala, Wael, ], [Torchinsky, Alberto, ]]</td>\n",
       "      <td>[math.CA, math.FA]</td>\n",
       "      <td>[math, math]</td>\n",
       "    </tr>\n",
       "    <tr>\n",
       "      <th>5</th>\n",
       "      <td>Bosonic characters of atomic Cooper pairs acro...</td>\n",
       "      <td>2007</td>\n",
       "      <td>We study the two-particle wave function of p...</td>\n",
       "      <td>[[Pong, Y. H., ], [Law, C. K., ]]</td>\n",
       "      <td>[cond-mat.mes-hall]</td>\n",
       "      <td>[cond-mat]</td>\n",
       "    </tr>\n",
       "    <tr>\n",
       "      <th>6</th>\n",
       "      <td>Polymer Quantum Mechanics and its Continuum Limit</td>\n",
       "      <td>2007</td>\n",
       "      <td>A rather non-standard quantum representation...</td>\n",
       "      <td>[[Corichi, Alejandro, ], [Vukasinac, Tatjana, ...</td>\n",
       "      <td>[gr-qc]</td>\n",
       "      <td>[gr-qc]</td>\n",
       "    </tr>\n",
       "    <tr>\n",
       "      <th>7</th>\n",
       "      <td>Numerical solution of shock and ramp compressi...</td>\n",
       "      <td>2008</td>\n",
       "      <td>A general formulation was developed to repre...</td>\n",
       "      <td>[[Swift, Damian C., ]]</td>\n",
       "      <td>[cond-mat.mtrl-sci]</td>\n",
       "      <td>[cond-mat]</td>\n",
       "    </tr>\n",
       "    <tr>\n",
       "      <th>8</th>\n",
       "      <td>The Spitzer c2d Survey of Large, Nearby, Inste...</td>\n",
       "      <td>2007</td>\n",
       "      <td>We discuss the results from the combined IRA...</td>\n",
       "      <td>[[Harvey, Paul, ], [Merin, Bruno, ], [Huard, T...</td>\n",
       "      <td>[astro-ph]</td>\n",
       "      <td>[astro-ph]</td>\n",
       "    </tr>\n",
       "    <tr>\n",
       "      <th>9</th>\n",
       "      <td>Partial cubes: structures, characterizations, ...</td>\n",
       "      <td>2007</td>\n",
       "      <td>Partial cubes are isometric subgraphs of hyp...</td>\n",
       "      <td>[[Ovchinnikov, Sergei, ]]</td>\n",
       "      <td>[math.CO]</td>\n",
       "      <td>[math]</td>\n",
       "    </tr>\n",
       "  </tbody>\n",
       "</table>\n",
       "</div>"
      ],
      "text/plain": [
       "                                               title version   \n",
       "0  Calculation of prompt diphoton production cros...    2007  \\\n",
       "1           Sparsity-certifying Graph Decompositions    2008   \n",
       "2  The evolution of the Earth-Moon system based o...    2008   \n",
       "3  A determinant of Stirling cycle numbers counts...    2007   \n",
       "4  From dyadic $\\Lambda_{\\alpha}$ to $\\Lambda_{\\a...    2007   \n",
       "5  Bosonic characters of atomic Cooper pairs acro...    2007   \n",
       "6  Polymer Quantum Mechanics and its Continuum Limit    2007   \n",
       "7  Numerical solution of shock and ramp compressi...    2008   \n",
       "8  The Spitzer c2d Survey of Large, Nearby, Inste...    2007   \n",
       "9  Partial cubes: structures, characterizations, ...    2007   \n",
       "\n",
       "                                            abstract   \n",
       "0    A fully differential calculation in perturba...  \\\n",
       "1    We describe a new algorithm, the $(k,\\ell)$-...   \n",
       "2    The evolution of Earth-Moon system is descri...   \n",
       "3    We show that a determinant of Stirling cycle...   \n",
       "4    In this paper we show how to compute the $\\L...   \n",
       "5    We study the two-particle wave function of p...   \n",
       "6    A rather non-standard quantum representation...   \n",
       "7    A general formulation was developed to repre...   \n",
       "8    We discuss the results from the combined IRA...   \n",
       "9    Partial cubes are isometric subgraphs of hyp...   \n",
       "\n",
       "                                      authors_parsed       category_names   \n",
       "0  [[Balázs, C., ], [Berger, E. L., ], [Nadolsky,...             [hep-ph]  \\\n",
       "1           [[Streinu, Ileana, ], [Theran, Louis, ]]     [math.CO, cs.CG]   \n",
       "2                                 [[Pan, Hongjun, ]]     [physics.gen-ph]   \n",
       "3                                [[Callan, David, ]]            [math.CO]   \n",
       "4  [[Abu-Shammala, Wael, ], [Torchinsky, Alberto, ]]   [math.CA, math.FA]   \n",
       "5                  [[Pong, Y. H., ], [Law, C. K., ]]  [cond-mat.mes-hall]   \n",
       "6  [[Corichi, Alejandro, ], [Vukasinac, Tatjana, ...              [gr-qc]   \n",
       "7                             [[Swift, Damian C., ]]  [cond-mat.mtrl-sci]   \n",
       "8  [[Harvey, Paul, ], [Merin, Bruno, ], [Huard, T...           [astro-ph]   \n",
       "9                          [[Ovchinnikov, Sergei, ]]            [math.CO]   \n",
       "\n",
       "  category_groups  \n",
       "0        [hep-ph]  \n",
       "1      [math, cs]  \n",
       "2       [physics]  \n",
       "3          [math]  \n",
       "4    [math, math]  \n",
       "5      [cond-mat]  \n",
       "6         [gr-qc]  \n",
       "7      [cond-mat]  \n",
       "8      [astro-ph]  \n",
       "9          [math]  "
      ]
     },
     "execution_count": 3,
     "metadata": {},
     "output_type": "execute_result"
    }
   ],
   "source": [
    "docs = read_n_documents(0,10)\n",
    "processed_documents = process(docs)\n",
    "processed_documents"
   ]
  },
  {
   "attachments": {},
   "cell_type": "markdown",
   "metadata": {},
   "source": [
    "##### Map Categories like [\"Physics\", \"Maths\"] to indexes like [0,1]"
   ]
  },
  {
   "cell_type": "code",
   "execution_count": 185,
   "metadata": {},
   "outputs": [],
   "source": [
    "def map_categories_to_indexes(categories):\n",
    "    unique_categories = []\n",
    "    all_indexes = []\n",
    "    for i in categories:\n",
    "        document_indexes = []\n",
    "        for category in i:\n",
    "            if category not in unique_categories:\n",
    "                unique_categories.append(category)\n",
    "                document_indexes.append(len(unique_categories)-1)\n",
    "            else:\n",
    "                if unique_categories.index(category) not in document_indexes:\n",
    "                    document_indexes.append(unique_categories.index(category))\n",
    "        all_indexes.append(document_indexes)\n",
    "    return all_indexes, unique_categories\n"
   ]
  },
  {
   "cell_type": "code",
   "execution_count": 186,
   "metadata": {},
   "outputs": [],
   "source": [
    "all_indexes, labels = map_categories_to_indexes(processed_documents['category_groups'].values)\n",
    "# print(all_indexes)"
   ]
  },
  {
   "attachments": {},
   "cell_type": "markdown",
   "metadata": {},
   "source": [
    "##### Map indexes like [[0,1],[1,2]] to [[1,1,0],[0,1,1]]"
   ]
  },
  {
   "cell_type": "code",
   "execution_count": 187,
   "metadata": {},
   "outputs": [],
   "source": [
    "from sklearn.preprocessing import MultiLabelBinarizer\n",
    "import scipy.sparse as sp\n",
    "mlb = MultiLabelBinarizer()\n",
    "\n",
    "# y = sp.csr_array(mlb.fit_transform(all_indexes))\n",
    "y = mlb.fit_transform(all_indexes)"
   ]
  },
  {
   "cell_type": "code",
   "execution_count": 188,
   "metadata": {},
   "outputs": [
    {
     "data": {
      "text/plain": [
       "array([[1, 0, 0, ..., 0, 0, 0],\n",
       "       [0, 1, 1, ..., 0, 0, 0],\n",
       "       [0, 0, 0, ..., 0, 0, 0],\n",
       "       ...,\n",
       "       [0, 1, 1, ..., 0, 0, 0],\n",
       "       [0, 1, 0, ..., 0, 0, 0],\n",
       "       [0, 0, 0, ..., 0, 0, 0]])"
      ]
     },
     "execution_count": 188,
     "metadata": {},
     "output_type": "execute_result"
    }
   ],
   "source": [
    "y"
   ]
  },
  {
   "cell_type": "code",
   "execution_count": 189,
   "metadata": {},
   "outputs": [
    {
     "data": {
      "text/plain": [
       "(100, 16)"
      ]
     },
     "execution_count": 189,
     "metadata": {},
     "output_type": "execute_result"
    }
   ],
   "source": [
    "y.shape"
   ]
  },
  {
   "cell_type": "code",
   "execution_count": 190,
   "metadata": {},
   "outputs": [
    {
     "data": {
      "text/plain": [
       "['hep-ph',\n",
       " 'math',\n",
       " 'cs',\n",
       " 'physics',\n",
       " 'cond-mat',\n",
       " 'gr-qc',\n",
       " 'astro-ph',\n",
       " 'hep-th',\n",
       " 'hep-ex',\n",
       " 'nlin',\n",
       " 'q-bio',\n",
       " 'quant-ph',\n",
       " 'hep-lat',\n",
       " 'nucl-th',\n",
       " 'math-ph',\n",
       " 'nucl-ex']"
      ]
     },
     "execution_count": 190,
     "metadata": {},
     "output_type": "execute_result"
    }
   ],
   "source": [
    "labels"
   ]
  },
  {
   "cell_type": "code",
   "execution_count": 191,
   "metadata": {},
   "outputs": [
    {
     "data": {
      "text/plain": [
       "<BarContainer object of 16 artists>"
      ]
     },
     "execution_count": 191,
     "metadata": {},
     "output_type": "execute_result"
    },
    {
     "data": {
      "image/png": "[encoded data removed]",
      "text/plain": [
       "<Figure size 640x480 with 1 Axes>"
      ]
     },
     "metadata": {},
     "output_type": "display_data"
    }
   ],
   "source": [
    "label_counts = y.sum(axis=0)\n",
    "plt.bar(np.linspace(1,18,len(label_counts)), label_counts)"
   ]
  },
  {
   "cell_type": "code",
   "execution_count": 192,
   "metadata": {},
   "outputs": [],
   "source": [
    "from sklearn.feature_extraction.text import CountVectorizer\n",
    "from scipy.sparse import hstack\n",
    "\n",
    "#What does the regular expression r'w{1,} do?\n",
    "count_vect = CountVectorizer(analyzer='word')\n",
    "# count_vect = CountVectorizer(analyzer='word', token_pattern=r'\\w{1,}')\n",
    "\n",
    "#\"fit\" is actually building the vocabulary\n",
    "count_vect.fit(processed_documents['abstract'].values)\n",
    "\n",
    "#the transformation converts the text to bag-of-words\n",
    "X = count_vect.transform(processed_documents['abstract'].values)  #these are sparse BOW matrices for Q1"
   ]
  },
  {
   "attachments": {},
   "cell_type": "markdown",
   "metadata": {},
   "source": [
    "##### Class counts"
   ]
  },
  {
   "attachments": {},
   "cell_type": "markdown",
   "metadata": {},
   "source": [
    "### Split data into training and test sets"
   ]
  },
  {
   "cell_type": "code",
   "execution_count": 193,
   "metadata": {},
   "outputs": [],
   "source": [
    "from sklearn.model_selection import train_test_split\n",
    "X_train, X_test, y_train, y_test = train_test_split(X,y, test_size = 0.3, shuffle = True, random_state = 42)"
   ]
  },
  {
   "cell_type": "code",
   "execution_count": 194,
   "metadata": {},
   "outputs": [
    {
     "name": "stdout",
     "output_type": "stream",
     "text": [
      "(100, 16)\n",
      "(70, 16)\n",
      "(30, 16)\n"
     ]
    }
   ],
   "source": [
    "print(y.shape)\n",
    "print(y_train.shape)\n",
    "print(y_test.shape)"
   ]
  },
  {
   "cell_type": "code",
   "execution_count": 195,
   "metadata": {},
   "outputs": [],
   "source": [
    "from sklearn.tree import DecisionTreeClassifier\n",
    "from sklearn.multioutput import MultiOutputClassifier\n",
    "\n",
    "tree_model = DecisionTreeClassifier()\n",
    "multilabel_model = MultiOutputClassifier(tree_model).fit(X_train,y_train)\n",
    "predictions = multilabel_model.predict(X_test)"
   ]
  },
  {
   "cell_type": "code",
   "execution_count": 196,
   "metadata": {},
   "outputs": [
    {
     "name": "stderr",
     "output_type": "stream",
     "text": [
      "c:\\Users\\staso\\AppData\\Local\\Programs\\Python\\Python310\\lib\\site-packages\\sklearn\\metrics\\_classification.py:1599: UndefinedMetricWarning: F-score is ill-defined and being set to 0.0 in labels with no true nor predicted samples. Use `zero_division` parameter to control this behavior.\n",
      "  _warn_prf(average, \"true nor predicted\", \"F-score is\", len(true_sum))\n"
     ]
    },
    {
     "data": {
      "text/plain": [
       "0.15865384615384615"
      ]
     },
     "execution_count": 196,
     "metadata": {},
     "output_type": "execute_result"
    }
   ],
   "source": [
    "from sklearn.metrics import f1_score, classification_report, accuracy_score\n",
    "\n",
    "f1_score(predictions, y_test, average=\"macro\")"
   ]
  },
  {
   "cell_type": "code",
   "execution_count": 197,
   "metadata": {},
   "outputs": [
    {
     "data": {
      "text/plain": [
       "0.6296296296296297"
      ]
     },
     "execution_count": 197,
     "metadata": {},
     "output_type": "execute_result"
    }
   ],
   "source": [
    "f1_score(predictions[:,0], y_test[:,0], average=\"macro\")\n"
   ]
  },
  {
   "cell_type": "code",
   "execution_count": 198,
   "metadata": {},
   "outputs": [
    {
     "name": "stdout",
     "output_type": "stream",
     "text": [
      "F1 scores for each category\n",
      "\n",
      "hep-ph: 63 % with count: 10\n",
      "math: 59 % with count: 34\n",
      "cs: 49 % with count: 7\n",
      "physics: 43 % with count: 16\n",
      "cond-mat: 71 % with count: 15\n",
      "gr-qc: 49 % with count: 5\n",
      "astro-ph: 48 % with count: 8\n",
      "hep-th: 48 % with count: 8\n",
      "hep-ex: 100 % with count: 3\n",
      "nlin: 82 % with count: 6\n",
      "q-bio: 49 % with count: 3\n",
      "quant-ph: 73 % with count: 4\n",
      "hep-lat: 100 % with count: 2\n",
      "nucl-th: 49 % with count: 2\n",
      "math-ph: 47 % with count: 4\n",
      "nucl-ex: 100 % with count: 1\n"
     ]
    }
   ],
   "source": [
    "scores = []\n",
    "print(\"F1 scores for each category\")\n",
    "print()\n",
    "for i in range(y_test.shape[1]):\n",
    "    score = f1_score(predictions[:,i], y_test[:,i], average=\"macro\")\n",
    "    score = round(score,2)*100\n",
    "    print(labels[i]+\":\", int(score), \"% with count:\", label_counts[i])\n",
    "    scores.append(score)"
   ]
  },
  {
   "cell_type": "code",
   "execution_count": 206,
   "metadata": {},
   "outputs": [
    {
     "name": "stdout",
     "output_type": "stream",
     "text": [
      "Weighted F1-scores 59.078125\n",
      "Macro F1-scores 64.375\n"
     ]
    }
   ],
   "source": [
    "print(\"Weighted F1-scores\",np.average(np.array(scores), weights=label_counts))\n",
    "print(\"Macro F1-scores\", np.average(np.array(scores)))"
   ]
  },
  {
   "cell_type": "code",
   "execution_count": 200,
   "metadata": {},
   "outputs": [
    {
     "data": {
      "text/plain": [
       "[63.0,\n",
       " 59.0,\n",
       " 49.0,\n",
       " 43.0,\n",
       " 71.0,\n",
       " 49.0,\n",
       " 48.0,\n",
       " 48.0,\n",
       " 100.0,\n",
       " 82.0,\n",
       " 49.0,\n",
       " 73.0,\n",
       " 100.0,\n",
       " 49.0,\n",
       " 47.0,\n",
       " 100.0]"
      ]
     },
     "execution_count": 200,
     "metadata": {},
     "output_type": "execute_result"
    }
   ],
   "source": [
    "scores"
   ]
  },
  {
   "cell_type": "code",
   "execution_count": 201,
   "metadata": {},
   "outputs": [
    {
     "name": "stdout",
     "output_type": "stream",
     "text": [
      "[10 34  7 16 15  5  8  8  3  6  3  4  2  2  4  1]\n"
     ]
    }
   ],
   "source": [
    "print(label_counts)"
   ]
  },
  {
   "cell_type": "code",
   "execution_count": 202,
   "metadata": {},
   "outputs": [
    {
     "data": {
      "image/png": "[encoded data removed]",
      "text/plain": [
       "<Figure size 640x480 with 2 Axes>"
      ]
     },
     "metadata": {},
     "output_type": "display_data"
    }
   ],
   "source": [
    "fig, ax1 = plt.subplots()\n",
    "\n",
    "ax1.set_title(\"12.000 dataset model performance\")\n",
    "color = 'tab:blue'\n",
    "ax1.set_xlabel('Category index')\n",
    "ax1.set_ylabel('Category count [n]', color=color)\n",
    "ax1.bar(np.linspace(1,18,len(label_counts)), label_counts, color=color)\n",
    "ax1.tick_params(axis='y', labelcolor=color)\n",
    "\n",
    "ax2 = ax1.twinx()  # instantiate a second axes that shares the same x-axis\n",
    "\n",
    "color = 'tab:red'\n",
    "ax2.set_ylabel('Accuracy [%]', color=color)  # we already handled the x-label with ax1\n",
    "ax2.scatter(np.linspace(1,18,len(label_counts)), scores, c=\"red\")\n",
    "ax2.tick_params(axis='y', labelcolor=color)\n",
    "\n",
    "fig.tight_layout()  # otherwise the right y-label is slightly clipped\n",
    "plt.show()\n"
   ]
  }
 ],
 "metadata": {
  "kernelspec": {
   "display_name": "Python 3",
   "language": "python",
   "name": "python3"
  },
  "language_info": {
   "codemirror_mode": {
    "name": "ipython",
    "version": 3
   },
   "file_extension": ".py",
   "mimetype": "text/x-python",
   "name": "python",
   "nbconvert_exporter": "python",
   "pygments_lexer": "ipython3",
   "version": "3.10.7"
  },
  "orig_nbformat": 4
 },
 "nbformat": 4,
 "nbformat_minor": 2
}
